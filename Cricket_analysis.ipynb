{
 "cells": [
  {
   "cell_type": "code",
   "execution_count": 1,
   "metadata": {},
   "outputs": [],
   "source": [
    "import pandas as pd\n",
    "import numpy as np\n",
    "import matplotlib.pyplot as plt\n",
    "import seaborn as sns"
   ]
  },
  {
   "cell_type": "code",
   "execution_count": 2,
   "metadata": {},
   "outputs": [],
   "source": [
    "df = pd.read_csv('ODI_matches.csv')"
   ]
  },
  {
   "cell_type": "code",
   "execution_count": 3,
   "metadata": {},
   "outputs": [
    {
     "data": {
      "text/plain": [
       "Index(['Unnamed: 0', 'Scorecard', 'Team 1', 'Team 2', 'Margin', 'Ground',\n",
       "       'Match Date', 'Winner', 'Host_Country', 'Venue_Team1', 'Venue_Team2',\n",
       "       'Innings_Team1', 'Innings_Team2'],\n",
       "      dtype='object')"
      ]
     },
     "execution_count": 3,
     "metadata": {},
     "output_type": "execute_result"
    }
   ],
   "source": [
    "df.columns"
   ]
  },
  {
   "cell_type": "code",
   "execution_count": 4,
   "metadata": {},
   "outputs": [
    {
     "data": {
      "text/html": [
       "<div>\n",
       "<style scoped>\n",
       "    .dataframe tbody tr th:only-of-type {\n",
       "        vertical-align: middle;\n",
       "    }\n",
       "\n",
       "    .dataframe tbody tr th {\n",
       "        vertical-align: top;\n",
       "    }\n",
       "\n",
       "    .dataframe thead th {\n",
       "        text-align: right;\n",
       "    }\n",
       "</style>\n",
       "<table border=\"1\" class=\"dataframe\">\n",
       "  <thead>\n",
       "    <tr style=\"text-align: right;\">\n",
       "      <th></th>\n",
       "      <th>Unnamed: 0</th>\n",
       "      <th>Scorecard</th>\n",
       "      <th>Team 1</th>\n",
       "      <th>Team 2</th>\n",
       "      <th>Margin</th>\n",
       "      <th>Ground</th>\n",
       "      <th>Match Date</th>\n",
       "      <th>Winner</th>\n",
       "      <th>Host_Country</th>\n",
       "      <th>Venue_Team1</th>\n",
       "      <th>Venue_Team2</th>\n",
       "      <th>Innings_Team1</th>\n",
       "      <th>Innings_Team2</th>\n",
       "    </tr>\n",
       "  </thead>\n",
       "  <tbody>\n",
       "    <tr>\n",
       "      <th>0</th>\n",
       "      <td>0</td>\n",
       "      <td>ODI # 1</td>\n",
       "      <td>Australia</td>\n",
       "      <td>England</td>\n",
       "      <td>Winner2ndInning</td>\n",
       "      <td>Melbourne</td>\n",
       "      <td>Jan 5, 1971</td>\n",
       "      <td>Australia</td>\n",
       "      <td>Australia</td>\n",
       "      <td>Home</td>\n",
       "      <td>Away</td>\n",
       "      <td>Second</td>\n",
       "      <td>First</td>\n",
       "    </tr>\n",
       "    <tr>\n",
       "      <th>1</th>\n",
       "      <td>1</td>\n",
       "      <td>ODI # 2</td>\n",
       "      <td>England</td>\n",
       "      <td>Australia</td>\n",
       "      <td>Winner2ndInning</td>\n",
       "      <td>Manchester</td>\n",
       "      <td>Aug 24, 1972</td>\n",
       "      <td>England</td>\n",
       "      <td>England</td>\n",
       "      <td>Home</td>\n",
       "      <td>Away</td>\n",
       "      <td>Second</td>\n",
       "      <td>First</td>\n",
       "    </tr>\n",
       "    <tr>\n",
       "      <th>2</th>\n",
       "      <td>2</td>\n",
       "      <td>ODI # 3</td>\n",
       "      <td>England</td>\n",
       "      <td>Australia</td>\n",
       "      <td>Winner2ndInning</td>\n",
       "      <td>Lord's</td>\n",
       "      <td>Aug 26, 1972</td>\n",
       "      <td>Australia</td>\n",
       "      <td>England</td>\n",
       "      <td>Home</td>\n",
       "      <td>Away</td>\n",
       "      <td>First</td>\n",
       "      <td>Second</td>\n",
       "    </tr>\n",
       "    <tr>\n",
       "      <th>3</th>\n",
       "      <td>3</td>\n",
       "      <td>ODI # 4</td>\n",
       "      <td>England</td>\n",
       "      <td>Australia</td>\n",
       "      <td>Winner2ndInning</td>\n",
       "      <td>Birmingham</td>\n",
       "      <td>Aug 28, 1972</td>\n",
       "      <td>England</td>\n",
       "      <td>England</td>\n",
       "      <td>Home</td>\n",
       "      <td>Away</td>\n",
       "      <td>Second</td>\n",
       "      <td>First</td>\n",
       "    </tr>\n",
       "    <tr>\n",
       "      <th>4</th>\n",
       "      <td>4</td>\n",
       "      <td>ODI # 5</td>\n",
       "      <td>New Zealand</td>\n",
       "      <td>Pakistan</td>\n",
       "      <td>Winner1stInning</td>\n",
       "      <td>Christchurch</td>\n",
       "      <td>Feb 11, 1973</td>\n",
       "      <td>New Zealand</td>\n",
       "      <td>New Zealand</td>\n",
       "      <td>Home</td>\n",
       "      <td>Away</td>\n",
       "      <td>First</td>\n",
       "      <td>Second</td>\n",
       "    </tr>\n",
       "  </tbody>\n",
       "</table>\n",
       "</div>"
      ],
      "text/plain": [
       "   Unnamed: 0 Scorecard       Team 1     Team 2           Margin  \\\n",
       "0           0   ODI # 1    Australia    England  Winner2ndInning   \n",
       "1           1   ODI # 2      England  Australia  Winner2ndInning   \n",
       "2           2   ODI # 3      England  Australia  Winner2ndInning   \n",
       "3           3   ODI # 4      England  Australia  Winner2ndInning   \n",
       "4           4   ODI # 5  New Zealand   Pakistan  Winner1stInning   \n",
       "\n",
       "         Ground    Match Date       Winner Host_Country Venue_Team1  \\\n",
       "0     Melbourne   Jan 5, 1971    Australia    Australia        Home   \n",
       "1    Manchester  Aug 24, 1972      England      England        Home   \n",
       "2        Lord's  Aug 26, 1972    Australia      England        Home   \n",
       "3    Birmingham  Aug 28, 1972      England      England        Home   \n",
       "4  Christchurch  Feb 11, 1973  New Zealand  New Zealand        Home   \n",
       "\n",
       "  Venue_Team2 Innings_Team1 Innings_Team2  \n",
       "0        Away        Second         First  \n",
       "1        Away        Second         First  \n",
       "2        Away         First        Second  \n",
       "3        Away        Second         First  \n",
       "4        Away         First        Second  "
      ]
     },
     "execution_count": 4,
     "metadata": {},
     "output_type": "execute_result"
    }
   ],
   "source": [
    "df.head()"
   ]
  },
  {
   "cell_type": "code",
   "execution_count": 5,
   "metadata": {},
   "outputs": [
    {
     "name": "stdout",
     "output_type": "stream",
     "text": [
      "['Australia' 'England' 'New Zealand' 'West Indies' 'Pakistan' 'India'\n",
      " 'Sri Lanka' 'Zimbabwe' 'South Africa' 'Kenya' 'U.A.E.' 'Bangladesh'\n",
      " 'Canada' 'Netherlands' 'Bermuda' 'Ireland' 'Scotland' 'Afghanistan'\n",
      " 'P.N.G.' 'Hong Kong' 'Namibia' 'U.S.A.' 'East Africa']\n"
     ]
    },
    {
     "data": {
      "text/plain": [
       "23"
      ]
     },
     "execution_count": 5,
     "metadata": {},
     "output_type": "execute_result"
    }
   ],
   "source": [
    "Teams = df[\"Winner\"].unique()\n",
    "print(Teams)\n",
    "len(Teams)"
   ]
  },
  {
   "cell_type": "code",
   "execution_count": 6,
   "metadata": {},
   "outputs": [
    {
     "data": {
      "text/html": [
       "<div>\n",
       "<style scoped>\n",
       "    .dataframe tbody tr th:only-of-type {\n",
       "        vertical-align: middle;\n",
       "    }\n",
       "\n",
       "    .dataframe tbody tr th {\n",
       "        vertical-align: top;\n",
       "    }\n",
       "\n",
       "    .dataframe thead th {\n",
       "        text-align: right;\n",
       "    }\n",
       "</style>\n",
       "<table border=\"1\" class=\"dataframe\">\n",
       "  <thead>\n",
       "    <tr style=\"text-align: right;\">\n",
       "      <th></th>\n",
       "      <th>Scorecard</th>\n",
       "      <th>Team 1</th>\n",
       "      <th>Team 2</th>\n",
       "      <th>Margin</th>\n",
       "      <th>Ground</th>\n",
       "      <th>Match Date</th>\n",
       "      <th>Winner</th>\n",
       "      <th>Host_Country</th>\n",
       "      <th>Venue_Team1</th>\n",
       "      <th>Venue_Team2</th>\n",
       "      <th>Innings_Team1</th>\n",
       "      <th>Innings_Team2</th>\n",
       "    </tr>\n",
       "  </thead>\n",
       "  <tbody>\n",
       "    <tr>\n",
       "      <th>0</th>\n",
       "      <td>ODI # 1</td>\n",
       "      <td>Australia</td>\n",
       "      <td>England</td>\n",
       "      <td>Winner2ndInning</td>\n",
       "      <td>Melbourne</td>\n",
       "      <td>Jan 5, 1971</td>\n",
       "      <td>Australia</td>\n",
       "      <td>Australia</td>\n",
       "      <td>Home</td>\n",
       "      <td>Away</td>\n",
       "      <td>Second</td>\n",
       "      <td>First</td>\n",
       "    </tr>\n",
       "    <tr>\n",
       "      <th>1</th>\n",
       "      <td>ODI # 2</td>\n",
       "      <td>England</td>\n",
       "      <td>Australia</td>\n",
       "      <td>Winner2ndInning</td>\n",
       "      <td>Manchester</td>\n",
       "      <td>Aug 24, 1972</td>\n",
       "      <td>England</td>\n",
       "      <td>England</td>\n",
       "      <td>Home</td>\n",
       "      <td>Away</td>\n",
       "      <td>Second</td>\n",
       "      <td>First</td>\n",
       "    </tr>\n",
       "  </tbody>\n",
       "</table>\n",
       "</div>"
      ],
      "text/plain": [
       "  Scorecard     Team 1     Team 2           Margin      Ground    Match Date  \\\n",
       "0   ODI # 1  Australia    England  Winner2ndInning   Melbourne   Jan 5, 1971   \n",
       "1   ODI # 2    England  Australia  Winner2ndInning  Manchester  Aug 24, 1972   \n",
       "\n",
       "      Winner Host_Country Venue_Team1 Venue_Team2 Innings_Team1 Innings_Team2  \n",
       "0  Australia    Australia        Home        Away        Second         First  \n",
       "1    England      England        Home        Away        Second         First  "
      ]
     },
     "execution_count": 6,
     "metadata": {},
     "output_type": "execute_result"
    }
   ],
   "source": [
    "df.drop(columns = \"Unnamed: 0\", inplace = True)\n",
    "df.head(2)"
   ]
  },
  {
   "cell_type": "markdown",
   "metadata": {},
   "source": [
    "## Renaming columns"
   ]
  },
  {
   "cell_type": "code",
   "execution_count": 7,
   "metadata": {},
   "outputs": [],
   "source": [
    "# Scorecard --> match_id\n",
    "# Ground    --> venue\n",
    "# Margin    --> winners_inng \n",
    "df.rename(columns = {\"Scorecard\":\"Match_id\", \"Ground\":\"Venue\", \"Margin\":\"Winners_inng\"}, inplace = True)"
   ]
  },
  {
   "cell_type": "code",
   "execution_count": 8,
   "metadata": {},
   "outputs": [
    {
     "data": {
      "text/plain": [
       "3747"
      ]
     },
     "execution_count": 8,
     "metadata": {},
     "output_type": "execute_result"
    }
   ],
   "source": [
    "df['Match_id'].nunique()"
   ]
  },
  {
   "cell_type": "markdown",
   "metadata": {},
   "source": [
    "### OBSERVATION:- Out of 7494 rows, there are only 3747 unique match id's, seems like there are duplicates"
   ]
  },
  {
   "cell_type": "code",
   "execution_count": 9,
   "metadata": {},
   "outputs": [],
   "source": [
    "df = df.drop_duplicates(subset = ['Venue', 'Match Date',\"Match_id\"])"
   ]
  },
  {
   "cell_type": "code",
   "execution_count": 10,
   "metadata": {},
   "outputs": [
    {
     "data": {
      "text/html": [
       "<div>\n",
       "<style scoped>\n",
       "    .dataframe tbody tr th:only-of-type {\n",
       "        vertical-align: middle;\n",
       "    }\n",
       "\n",
       "    .dataframe tbody tr th {\n",
       "        vertical-align: top;\n",
       "    }\n",
       "\n",
       "    .dataframe thead th {\n",
       "        text-align: right;\n",
       "    }\n",
       "</style>\n",
       "<table border=\"1\" class=\"dataframe\">\n",
       "  <thead>\n",
       "    <tr style=\"text-align: right;\">\n",
       "      <th></th>\n",
       "      <th>Match_id</th>\n",
       "      <th>Team 1</th>\n",
       "      <th>Team 2</th>\n",
       "      <th>Winners_inng</th>\n",
       "      <th>Venue</th>\n",
       "      <th>Match Date</th>\n",
       "      <th>Winner</th>\n",
       "      <th>Host_Country</th>\n",
       "      <th>Venue_Team1</th>\n",
       "      <th>Venue_Team2</th>\n",
       "      <th>Innings_Team1</th>\n",
       "      <th>Innings_Team2</th>\n",
       "    </tr>\n",
       "  </thead>\n",
       "  <tbody>\n",
       "    <tr>\n",
       "      <th>0</th>\n",
       "      <td>ODI # 1</td>\n",
       "      <td>Australia</td>\n",
       "      <td>England</td>\n",
       "      <td>Winner2ndInning</td>\n",
       "      <td>Melbourne</td>\n",
       "      <td>Jan 5, 1971</td>\n",
       "      <td>Australia</td>\n",
       "      <td>Australia</td>\n",
       "      <td>Home</td>\n",
       "      <td>Away</td>\n",
       "      <td>Second</td>\n",
       "      <td>First</td>\n",
       "    </tr>\n",
       "    <tr>\n",
       "      <th>1</th>\n",
       "      <td>ODI # 2</td>\n",
       "      <td>England</td>\n",
       "      <td>Australia</td>\n",
       "      <td>Winner2ndInning</td>\n",
       "      <td>Manchester</td>\n",
       "      <td>Aug 24, 1972</td>\n",
       "      <td>England</td>\n",
       "      <td>England</td>\n",
       "      <td>Home</td>\n",
       "      <td>Away</td>\n",
       "      <td>Second</td>\n",
       "      <td>First</td>\n",
       "    </tr>\n",
       "    <tr>\n",
       "      <th>2</th>\n",
       "      <td>ODI # 3</td>\n",
       "      <td>England</td>\n",
       "      <td>Australia</td>\n",
       "      <td>Winner2ndInning</td>\n",
       "      <td>Lord's</td>\n",
       "      <td>Aug 26, 1972</td>\n",
       "      <td>Australia</td>\n",
       "      <td>England</td>\n",
       "      <td>Home</td>\n",
       "      <td>Away</td>\n",
       "      <td>First</td>\n",
       "      <td>Second</td>\n",
       "    </tr>\n",
       "    <tr>\n",
       "      <th>3</th>\n",
       "      <td>ODI # 4</td>\n",
       "      <td>England</td>\n",
       "      <td>Australia</td>\n",
       "      <td>Winner2ndInning</td>\n",
       "      <td>Birmingham</td>\n",
       "      <td>Aug 28, 1972</td>\n",
       "      <td>England</td>\n",
       "      <td>England</td>\n",
       "      <td>Home</td>\n",
       "      <td>Away</td>\n",
       "      <td>Second</td>\n",
       "      <td>First</td>\n",
       "    </tr>\n",
       "    <tr>\n",
       "      <th>4</th>\n",
       "      <td>ODI # 5</td>\n",
       "      <td>New Zealand</td>\n",
       "      <td>Pakistan</td>\n",
       "      <td>Winner1stInning</td>\n",
       "      <td>Christchurch</td>\n",
       "      <td>Feb 11, 1973</td>\n",
       "      <td>New Zealand</td>\n",
       "      <td>New Zealand</td>\n",
       "      <td>Home</td>\n",
       "      <td>Away</td>\n",
       "      <td>First</td>\n",
       "      <td>Second</td>\n",
       "    </tr>\n",
       "  </tbody>\n",
       "</table>\n",
       "</div>"
      ],
      "text/plain": [
       "  Match_id       Team 1     Team 2     Winners_inng         Venue  \\\n",
       "0  ODI # 1    Australia    England  Winner2ndInning     Melbourne   \n",
       "1  ODI # 2      England  Australia  Winner2ndInning    Manchester   \n",
       "2  ODI # 3      England  Australia  Winner2ndInning        Lord's   \n",
       "3  ODI # 4      England  Australia  Winner2ndInning    Birmingham   \n",
       "4  ODI # 5  New Zealand   Pakistan  Winner1stInning  Christchurch   \n",
       "\n",
       "     Match Date       Winner Host_Country Venue_Team1 Venue_Team2  \\\n",
       "0   Jan 5, 1971    Australia    Australia        Home        Away   \n",
       "1  Aug 24, 1972      England      England        Home        Away   \n",
       "2  Aug 26, 1972    Australia      England        Home        Away   \n",
       "3  Aug 28, 1972      England      England        Home        Away   \n",
       "4  Feb 11, 1973  New Zealand  New Zealand        Home        Away   \n",
       "\n",
       "  Innings_Team1 Innings_Team2  \n",
       "0        Second         First  \n",
       "1        Second         First  \n",
       "2         First        Second  \n",
       "3        Second         First  \n",
       "4         First        Second  "
      ]
     },
     "execution_count": 10,
     "metadata": {},
     "output_type": "execute_result"
    }
   ],
   "source": [
    "df.head()"
   ]
  },
  {
   "cell_type": "code",
   "execution_count": 11,
   "metadata": {},
   "outputs": [
    {
     "data": {
      "text/plain": [
       "(3748, 12)"
      ]
     },
     "execution_count": 11,
     "metadata": {},
     "output_type": "execute_result"
    }
   ],
   "source": [
    "df.shape"
   ]
  },
  {
   "cell_type": "markdown",
   "metadata": {},
   "source": [
    "## Handling Match_id column"
   ]
  },
  {
   "cell_type": "code",
   "execution_count": 12,
   "metadata": {},
   "outputs": [],
   "source": [
    "### ODI # 1\n",
    "### ODI # 3934\n",
    "\n",
    "def get_match_id(st):\n",
    "    st = st.split(\"#\")[1]\n",
    "    return int(st[1:])\n",
    "\n",
    "# df['Match_id'] = str(df['Match_id']).split('#')[1]\n",
    "# print(get_match_id(\"ODI # 1234\"))\n",
    "\n",
    "# abcd = str(df['Match_id']).split('#')[1]\n",
    "# abcd"
   ]
  },
  {
   "cell_type": "code",
   "execution_count": 13,
   "metadata": {},
   "outputs": [],
   "source": [
    "df['Match_id'] = df['Match_id'].apply(get_match_id)"
   ]
  },
  {
   "cell_type": "code",
   "execution_count": 14,
   "metadata": {
    "scrolled": true
   },
   "outputs": [
    {
     "data": {
      "text/html": [
       "<div>\n",
       "<style scoped>\n",
       "    .dataframe tbody tr th:only-of-type {\n",
       "        vertical-align: middle;\n",
       "    }\n",
       "\n",
       "    .dataframe tbody tr th {\n",
       "        vertical-align: top;\n",
       "    }\n",
       "\n",
       "    .dataframe thead th {\n",
       "        text-align: right;\n",
       "    }\n",
       "</style>\n",
       "<table border=\"1\" class=\"dataframe\">\n",
       "  <thead>\n",
       "    <tr style=\"text-align: right;\">\n",
       "      <th></th>\n",
       "      <th>Match_id</th>\n",
       "      <th>Team 1</th>\n",
       "      <th>Team 2</th>\n",
       "      <th>Winners_inng</th>\n",
       "      <th>Venue</th>\n",
       "      <th>Match Date</th>\n",
       "      <th>Winner</th>\n",
       "      <th>Host_Country</th>\n",
       "      <th>Venue_Team1</th>\n",
       "      <th>Venue_Team2</th>\n",
       "      <th>Innings_Team1</th>\n",
       "      <th>Innings_Team2</th>\n",
       "    </tr>\n",
       "  </thead>\n",
       "  <tbody>\n",
       "    <tr>\n",
       "      <th>3746</th>\n",
       "      <td>3935</td>\n",
       "      <td>East Africa</td>\n",
       "      <td>Namibia</td>\n",
       "      <td>Winner1stInning</td>\n",
       "      <td>Mumbai</td>\n",
       "      <td>Aug 12, 2017</td>\n",
       "      <td>East Africa</td>\n",
       "      <td>India</td>\n",
       "      <td>Neutral</td>\n",
       "      <td>Neutral</td>\n",
       "      <td>First</td>\n",
       "      <td>Second</td>\n",
       "    </tr>\n",
       "    <tr>\n",
       "      <th>7482</th>\n",
       "      <td>3924</td>\n",
       "      <td>Sri Lanka</td>\n",
       "      <td>Pakistan</td>\n",
       "      <td>Winner1stInning</td>\n",
       "      <td>Abu Dhabi</td>\n",
       "      <td>Oct 16, 2017</td>\n",
       "      <td>Pakistan</td>\n",
       "      <td>U.A.E.</td>\n",
       "      <td>Neutral</td>\n",
       "      <td>Neutral</td>\n",
       "      <td>Second</td>\n",
       "      <td>First</td>\n",
       "    </tr>\n",
       "  </tbody>\n",
       "</table>\n",
       "</div>"
      ],
      "text/plain": [
       "      Match_id       Team 1    Team 2     Winners_inng       Venue  \\\n",
       "3746      3935  East Africa   Namibia  Winner1stInning      Mumbai   \n",
       "7482      3924    Sri Lanka  Pakistan  Winner1stInning  Abu Dhabi    \n",
       "\n",
       "        Match Date       Winner Host_Country Venue_Team1 Venue_Team2  \\\n",
       "3746  Aug 12, 2017  East Africa        India     Neutral     Neutral   \n",
       "7482  Oct 16, 2017     Pakistan       U.A.E.     Neutral     Neutral   \n",
       "\n",
       "     Innings_Team1 Innings_Team2  \n",
       "3746         First        Second  \n",
       "7482        Second         First  "
      ]
     },
     "execution_count": 14,
     "metadata": {},
     "output_type": "execute_result"
    }
   ],
   "source": [
    "df.tail(2)"
   ]
  },
  {
   "cell_type": "code",
   "execution_count": 15,
   "metadata": {},
   "outputs": [
    {
     "data": {
      "text/plain": [
       "3747"
      ]
     },
     "execution_count": 15,
     "metadata": {},
     "output_type": "execute_result"
    }
   ],
   "source": [
    "df['Match_id'].nunique()"
   ]
  },
  {
   "cell_type": "markdown",
   "metadata": {},
   "source": [
    "### Handling Winners_inng column"
   ]
  },
  {
   "cell_type": "code",
   "execution_count": 16,
   "metadata": {},
   "outputs": [
    {
     "data": {
      "text/plain": [
       "Winner2ndInning    1907\n",
       "Winner1stInning    1841\n",
       "Name: Winners_inng, dtype: int64"
      ]
     },
     "execution_count": 16,
     "metadata": {},
     "output_type": "execute_result"
    }
   ],
   "source": [
    "df['Winners_inng'].value_counts()"
   ]
  },
  {
   "cell_type": "code",
   "execution_count": 17,
   "metadata": {},
   "outputs": [
    {
     "name": "stdout",
     "output_type": "stream",
     "text": [
      "1\n"
     ]
    }
   ],
   "source": [
    "# Winner2ndInning\n",
    "# Winner1stInning\n",
    "\n",
    "def get_winners_inng(st):\n",
    "    return st[6]\n",
    "print(get_winners_inng('Winner1stInning'))\n",
    "\n",
    "# or \n",
    "\n",
    "# df['Winners_inng'] = str(df['Winners_inng'])[6]\n"
   ]
  },
  {
   "cell_type": "code",
   "execution_count": 18,
   "metadata": {},
   "outputs": [],
   "source": [
    "df['Winners_inng'] = df['Winners_inng'].apply(get_winners_inng)"
   ]
  },
  {
   "cell_type": "code",
   "execution_count": 19,
   "metadata": {},
   "outputs": [
    {
     "data": {
      "text/html": [
       "<div>\n",
       "<style scoped>\n",
       "    .dataframe tbody tr th:only-of-type {\n",
       "        vertical-align: middle;\n",
       "    }\n",
       "\n",
       "    .dataframe tbody tr th {\n",
       "        vertical-align: top;\n",
       "    }\n",
       "\n",
       "    .dataframe thead th {\n",
       "        text-align: right;\n",
       "    }\n",
       "</style>\n",
       "<table border=\"1\" class=\"dataframe\">\n",
       "  <thead>\n",
       "    <tr style=\"text-align: right;\">\n",
       "      <th></th>\n",
       "      <th>Match_id</th>\n",
       "      <th>Team 1</th>\n",
       "      <th>Team 2</th>\n",
       "      <th>Winners_inng</th>\n",
       "      <th>Venue</th>\n",
       "      <th>Match Date</th>\n",
       "      <th>Winner</th>\n",
       "      <th>Host_Country</th>\n",
       "      <th>Venue_Team1</th>\n",
       "      <th>Venue_Team2</th>\n",
       "      <th>Innings_Team1</th>\n",
       "      <th>Innings_Team2</th>\n",
       "    </tr>\n",
       "  </thead>\n",
       "  <tbody>\n",
       "    <tr>\n",
       "      <th>0</th>\n",
       "      <td>1</td>\n",
       "      <td>Australia</td>\n",
       "      <td>England</td>\n",
       "      <td>2</td>\n",
       "      <td>Melbourne</td>\n",
       "      <td>Jan 5, 1971</td>\n",
       "      <td>Australia</td>\n",
       "      <td>Australia</td>\n",
       "      <td>Home</td>\n",
       "      <td>Away</td>\n",
       "      <td>Second</td>\n",
       "      <td>First</td>\n",
       "    </tr>\n",
       "    <tr>\n",
       "      <th>1</th>\n",
       "      <td>2</td>\n",
       "      <td>England</td>\n",
       "      <td>Australia</td>\n",
       "      <td>2</td>\n",
       "      <td>Manchester</td>\n",
       "      <td>Aug 24, 1972</td>\n",
       "      <td>England</td>\n",
       "      <td>England</td>\n",
       "      <td>Home</td>\n",
       "      <td>Away</td>\n",
       "      <td>Second</td>\n",
       "      <td>First</td>\n",
       "    </tr>\n",
       "  </tbody>\n",
       "</table>\n",
       "</div>"
      ],
      "text/plain": [
       "   Match_id     Team 1     Team 2 Winners_inng       Venue    Match Date  \\\n",
       "0         1  Australia    England            2   Melbourne   Jan 5, 1971   \n",
       "1         2    England  Australia            2  Manchester  Aug 24, 1972   \n",
       "\n",
       "      Winner Host_Country Venue_Team1 Venue_Team2 Innings_Team1 Innings_Team2  \n",
       "0  Australia    Australia        Home        Away        Second         First  \n",
       "1    England      England        Home        Away        Second         First  "
      ]
     },
     "execution_count": 19,
     "metadata": {},
     "output_type": "execute_result"
    }
   ],
   "source": [
    "df.head(2)"
   ]
  },
  {
   "cell_type": "code",
   "execution_count": 20,
   "metadata": {},
   "outputs": [
    {
     "name": "stdout",
     "output_type": "stream",
     "text": [
      "1971\n"
     ]
    }
   ],
   "source": [
    "def get_year(st):\n",
    "    st = st.split(\",\")[1]\n",
    "    return int(st)\n",
    "\n",
    "print(get_year(\"Jan 5, 1971\"))"
   ]
  },
  {
   "cell_type": "code",
   "execution_count": 21,
   "metadata": {},
   "outputs": [],
   "source": [
    "df['Year'] = df['Match Date'].apply(get_year)"
   ]
  },
  {
   "cell_type": "code",
   "execution_count": 22,
   "metadata": {},
   "outputs": [
    {
     "data": {
      "text/html": [
       "<div>\n",
       "<style scoped>\n",
       "    .dataframe tbody tr th:only-of-type {\n",
       "        vertical-align: middle;\n",
       "    }\n",
       "\n",
       "    .dataframe tbody tr th {\n",
       "        vertical-align: top;\n",
       "    }\n",
       "\n",
       "    .dataframe thead th {\n",
       "        text-align: right;\n",
       "    }\n",
       "</style>\n",
       "<table border=\"1\" class=\"dataframe\">\n",
       "  <thead>\n",
       "    <tr style=\"text-align: right;\">\n",
       "      <th></th>\n",
       "      <th>Match_id</th>\n",
       "      <th>Team 1</th>\n",
       "      <th>Team 2</th>\n",
       "      <th>Winners_inng</th>\n",
       "      <th>Venue</th>\n",
       "      <th>Match Date</th>\n",
       "      <th>Winner</th>\n",
       "      <th>Host_Country</th>\n",
       "      <th>Venue_Team1</th>\n",
       "      <th>Venue_Team2</th>\n",
       "      <th>Innings_Team1</th>\n",
       "      <th>Innings_Team2</th>\n",
       "      <th>Year</th>\n",
       "    </tr>\n",
       "  </thead>\n",
       "  <tbody>\n",
       "    <tr>\n",
       "      <th>0</th>\n",
       "      <td>1</td>\n",
       "      <td>Australia</td>\n",
       "      <td>England</td>\n",
       "      <td>2</td>\n",
       "      <td>Melbourne</td>\n",
       "      <td>Jan 5, 1971</td>\n",
       "      <td>Australia</td>\n",
       "      <td>Australia</td>\n",
       "      <td>Home</td>\n",
       "      <td>Away</td>\n",
       "      <td>Second</td>\n",
       "      <td>First</td>\n",
       "      <td>1971</td>\n",
       "    </tr>\n",
       "    <tr>\n",
       "      <th>1</th>\n",
       "      <td>2</td>\n",
       "      <td>England</td>\n",
       "      <td>Australia</td>\n",
       "      <td>2</td>\n",
       "      <td>Manchester</td>\n",
       "      <td>Aug 24, 1972</td>\n",
       "      <td>England</td>\n",
       "      <td>England</td>\n",
       "      <td>Home</td>\n",
       "      <td>Away</td>\n",
       "      <td>Second</td>\n",
       "      <td>First</td>\n",
       "      <td>1972</td>\n",
       "    </tr>\n",
       "  </tbody>\n",
       "</table>\n",
       "</div>"
      ],
      "text/plain": [
       "   Match_id     Team 1     Team 2 Winners_inng       Venue    Match Date  \\\n",
       "0         1  Australia    England            2   Melbourne   Jan 5, 1971   \n",
       "1         2    England  Australia            2  Manchester  Aug 24, 1972   \n",
       "\n",
       "      Winner Host_Country Venue_Team1 Venue_Team2 Innings_Team1 Innings_Team2  \\\n",
       "0  Australia    Australia        Home        Away        Second         First   \n",
       "1    England      England        Home        Away        Second         First   \n",
       "\n",
       "   Year  \n",
       "0  1971  \n",
       "1  1972  "
      ]
     },
     "execution_count": 22,
     "metadata": {},
     "output_type": "execute_result"
    }
   ],
   "source": [
    "df.head(2)"
   ]
  },
  {
   "cell_type": "code",
   "execution_count": 27,
   "metadata": {},
   "outputs": [
    {
     "data": {
      "text/html": [
       "<div>\n",
       "<style scoped>\n",
       "    .dataframe tbody tr th:only-of-type {\n",
       "        vertical-align: middle;\n",
       "    }\n",
       "\n",
       "    .dataframe tbody tr th {\n",
       "        vertical-align: top;\n",
       "    }\n",
       "\n",
       "    .dataframe thead th {\n",
       "        text-align: right;\n",
       "    }\n",
       "</style>\n",
       "<table border=\"1\" class=\"dataframe\">\n",
       "  <thead>\n",
       "    <tr style=\"text-align: right;\">\n",
       "      <th></th>\n",
       "      <th>Match_id</th>\n",
       "      <th>Team 1</th>\n",
       "      <th>Team 2</th>\n",
       "      <th>Winners_inng</th>\n",
       "      <th>Venue</th>\n",
       "      <th>Match Date</th>\n",
       "      <th>Winner</th>\n",
       "      <th>Host_Country</th>\n",
       "      <th>Venue_Team1</th>\n",
       "      <th>Venue_Team2</th>\n",
       "      <th>Innings_Team1</th>\n",
       "      <th>Innings_Team2</th>\n",
       "      <th>Year</th>\n",
       "    </tr>\n",
       "  </thead>\n",
       "  <tbody>\n",
       "    <tr>\n",
       "      <th>0</th>\n",
       "      <td>1</td>\n",
       "      <td>Australia</td>\n",
       "      <td>England</td>\n",
       "      <td>2</td>\n",
       "      <td>Melbourne</td>\n",
       "      <td>Jan 5, 1971</td>\n",
       "      <td>Australia</td>\n",
       "      <td>Australia</td>\n",
       "      <td>Home</td>\n",
       "      <td>Away</td>\n",
       "      <td>Second</td>\n",
       "      <td>First</td>\n",
       "      <td>1971</td>\n",
       "    </tr>\n",
       "    <tr>\n",
       "      <th>1</th>\n",
       "      <td>2</td>\n",
       "      <td>England</td>\n",
       "      <td>Australia</td>\n",
       "      <td>2</td>\n",
       "      <td>Manchester</td>\n",
       "      <td>Aug 24, 1972</td>\n",
       "      <td>England</td>\n",
       "      <td>England</td>\n",
       "      <td>Home</td>\n",
       "      <td>Away</td>\n",
       "      <td>Second</td>\n",
       "      <td>First</td>\n",
       "      <td>1972</td>\n",
       "    </tr>\n",
       "    <tr>\n",
       "      <th>2</th>\n",
       "      <td>3</td>\n",
       "      <td>England</td>\n",
       "      <td>Australia</td>\n",
       "      <td>2</td>\n",
       "      <td>Lord's</td>\n",
       "      <td>Aug 26, 1972</td>\n",
       "      <td>Australia</td>\n",
       "      <td>England</td>\n",
       "      <td>Home</td>\n",
       "      <td>Away</td>\n",
       "      <td>First</td>\n",
       "      <td>Second</td>\n",
       "      <td>1972</td>\n",
       "    </tr>\n",
       "    <tr>\n",
       "      <th>3</th>\n",
       "      <td>4</td>\n",
       "      <td>England</td>\n",
       "      <td>Australia</td>\n",
       "      <td>2</td>\n",
       "      <td>Birmingham</td>\n",
       "      <td>Aug 28, 1972</td>\n",
       "      <td>England</td>\n",
       "      <td>England</td>\n",
       "      <td>Home</td>\n",
       "      <td>Away</td>\n",
       "      <td>Second</td>\n",
       "      <td>First</td>\n",
       "      <td>1972</td>\n",
       "    </tr>\n",
       "    <tr>\n",
       "      <th>4</th>\n",
       "      <td>5</td>\n",
       "      <td>New Zealand</td>\n",
       "      <td>Pakistan</td>\n",
       "      <td>1</td>\n",
       "      <td>Christchurch</td>\n",
       "      <td>Feb 11, 1973</td>\n",
       "      <td>New Zealand</td>\n",
       "      <td>New Zealand</td>\n",
       "      <td>Home</td>\n",
       "      <td>Away</td>\n",
       "      <td>First</td>\n",
       "      <td>Second</td>\n",
       "      <td>1973</td>\n",
       "    </tr>\n",
       "  </tbody>\n",
       "</table>\n",
       "</div>"
      ],
      "text/plain": [
       "   Match_id       Team 1     Team 2 Winners_inng         Venue    Match Date  \\\n",
       "0         1    Australia    England            2     Melbourne   Jan 5, 1971   \n",
       "1         2      England  Australia            2    Manchester  Aug 24, 1972   \n",
       "2         3      England  Australia            2        Lord's  Aug 26, 1972   \n",
       "3         4      England  Australia            2    Birmingham  Aug 28, 1972   \n",
       "4         5  New Zealand   Pakistan            1  Christchurch  Feb 11, 1973   \n",
       "\n",
       "        Winner Host_Country Venue_Team1 Venue_Team2 Innings_Team1  \\\n",
       "0    Australia    Australia        Home        Away        Second   \n",
       "1      England      England        Home        Away        Second   \n",
       "2    Australia      England        Home        Away         First   \n",
       "3      England      England        Home        Away        Second   \n",
       "4  New Zealand  New Zealand        Home        Away         First   \n",
       "\n",
       "  Innings_Team2  Year  \n",
       "0         First  1971  \n",
       "1         First  1972  \n",
       "2        Second  1972  \n",
       "3         First  1972  \n",
       "4        Second  1973  "
      ]
     },
     "execution_count": 27,
     "metadata": {},
     "output_type": "execute_result"
    }
   ],
   "source": [
    "analysis_df = df\n",
    "analysis_df.head()"
   ]
  },
  {
   "cell_type": "code",
   "execution_count": 28,
   "metadata": {},
   "outputs": [],
   "source": [
    "df.to_csv(r'C:\\Users\\Murari\\PycharmProjects\\Cricket_Analysis\\analysis_df.csv', index=False)"
   ]
  },
  {
   "cell_type": "markdown",
   "metadata": {},
   "source": [
    "### Overall analysis"
   ]
  },
  {
   "cell_type": "code",
   "execution_count": 29,
   "metadata": {},
   "outputs": [
    {
     "data": {
      "text/plain": [
       "3748"
      ]
     },
     "execution_count": 29,
     "metadata": {},
     "output_type": "execute_result"
    }
   ],
   "source": [
    "df['Year'].value_counts().sum()\n",
    "## Total # of matches played till Aug 2017 --> 3748"
   ]
  },
  {
   "cell_type": "code",
   "execution_count": 40,
   "metadata": {},
   "outputs": [
    {
     "name": "stderr",
     "output_type": "stream",
     "text": [
      "C:\\Users\\Murari\\anaconda3\\lib\\site-packages\\seaborn\\_decorators.py:36: FutureWarning: Pass the following variables as keyword args: x, y. From version 0.12, the only valid positional argument will be `data`, and passing other arguments without an explicit keyword will result in an error or misinterpretation.\n",
      "  warnings.warn(\n"
     ]
    },
    {
     "data": {
      "image/png": "[encoded data removed]",
      "text/plain": [
       "<Figure size 1008x576 with 1 Axes>"
      ]
     },
     "metadata": {
      "needs_background": "light"
     },
     "output_type": "display_data"
    }
   ],
   "source": [
    "year = df['Year'].value_counts().sort_values(ascending=False).reset_index()\n",
    "year.columns = [\"Year\", \"Total_Matches\"]\n",
    "\n",
    "\n",
    "plt.figure(figsize = (14,8))\n",
    "sns.set_style('darkgrid')\n",
    "sns.lineplot(year.Year, year.Total_Matches)\n",
    "plt.xticks(year.Year,rotation='vertical')\n",
    "plt.title(\"Total Matches played each year\")\n",
    "plt.show()"
   ]
  },
  {
   "cell_type": "markdown",
   "metadata": {},
   "source": [
    "### OBSERAVATION:- In 2007, around 180 matches played"
   ]
  },
  {
   "cell_type": "code",
   "execution_count": 26,
   "metadata": {},
   "outputs": [],
   "source": [
    "Host_countries = df['Host_Country'].value_counts().reset_index()"
   ]
  },
  {
   "cell_type": "code",
   "execution_count": 27,
   "metadata": {},
   "outputs": [
    {
     "data": {
      "text/html": [
       "<div>\n",
       "<style scoped>\n",
       "    .dataframe tbody tr th:only-of-type {\n",
       "        vertical-align: middle;\n",
       "    }\n",
       "\n",
       "    .dataframe tbody tr th {\n",
       "        vertical-align: top;\n",
       "    }\n",
       "\n",
       "    .dataframe thead th {\n",
       "        text-align: right;\n",
       "    }\n",
       "</style>\n",
       "<table border=\"1\" class=\"dataframe\">\n",
       "  <thead>\n",
       "    <tr style=\"text-align: right;\">\n",
       "      <th></th>\n",
       "      <th>Country</th>\n",
       "      <th>Matches</th>\n",
       "    </tr>\n",
       "  </thead>\n",
       "  <tbody>\n",
       "    <tr>\n",
       "      <th>0</th>\n",
       "      <td>Australia</td>\n",
       "      <td>585</td>\n",
       "    </tr>\n",
       "    <tr>\n",
       "      <th>1</th>\n",
       "      <td>India</td>\n",
       "      <td>396</td>\n",
       "    </tr>\n",
       "    <tr>\n",
       "      <th>2</th>\n",
       "      <td>England</td>\n",
       "      <td>387</td>\n",
       "    </tr>\n",
       "    <tr>\n",
       "      <th>3</th>\n",
       "      <td>South Africa</td>\n",
       "      <td>314</td>\n",
       "    </tr>\n",
       "    <tr>\n",
       "      <th>4</th>\n",
       "      <td>New Zealand</td>\n",
       "      <td>301</td>\n",
       "    </tr>\n",
       "    <tr>\n",
       "      <th>5</th>\n",
       "      <td>U.A.E.</td>\n",
       "      <td>296</td>\n",
       "    </tr>\n",
       "    <tr>\n",
       "      <th>6</th>\n",
       "      <td>West Indies</td>\n",
       "      <td>285</td>\n",
       "    </tr>\n",
       "    <tr>\n",
       "      <th>7</th>\n",
       "      <td>Sri Lanka</td>\n",
       "      <td>261</td>\n",
       "    </tr>\n",
       "    <tr>\n",
       "      <th>8</th>\n",
       "      <td>Zimbabwe</td>\n",
       "      <td>202</td>\n",
       "    </tr>\n",
       "    <tr>\n",
       "      <th>9</th>\n",
       "      <td>Bangladesh</td>\n",
       "      <td>199</td>\n",
       "    </tr>\n",
       "    <tr>\n",
       "      <th>10</th>\n",
       "      <td>Pakistan</td>\n",
       "      <td>195</td>\n",
       "    </tr>\n",
       "    <tr>\n",
       "      <th>11</th>\n",
       "      <td>Kenya</td>\n",
       "      <td>89</td>\n",
       "    </tr>\n",
       "    <tr>\n",
       "      <th>12</th>\n",
       "      <td>Ireland</td>\n",
       "      <td>51</td>\n",
       "    </tr>\n",
       "    <tr>\n",
       "      <th>13</th>\n",
       "      <td>Canada</td>\n",
       "      <td>39</td>\n",
       "    </tr>\n",
       "    <tr>\n",
       "      <th>14</th>\n",
       "      <td>Netherlands</td>\n",
       "      <td>35</td>\n",
       "    </tr>\n",
       "    <tr>\n",
       "      <th>15</th>\n",
       "      <td>Scotland</td>\n",
       "      <td>33</td>\n",
       "    </tr>\n",
       "    <tr>\n",
       "      <th>16</th>\n",
       "      <td>Malaysia</td>\n",
       "      <td>9</td>\n",
       "    </tr>\n",
       "    <tr>\n",
       "      <th>17</th>\n",
       "      <td>Hong Kong</td>\n",
       "      <td>4</td>\n",
       "    </tr>\n",
       "    <tr>\n",
       "      <th>18</th>\n",
       "      <td>Papua New Guinea</td>\n",
       "      <td>2</td>\n",
       "    </tr>\n",
       "  </tbody>\n",
       "</table>\n",
       "</div>"
      ],
      "text/plain": [
       "             Country  Matches\n",
       "0          Australia      585\n",
       "1              India      396\n",
       "2            England      387\n",
       "3       South Africa      314\n",
       "4        New Zealand      301\n",
       "5             U.A.E.      296\n",
       "6        West Indies      285\n",
       "7          Sri Lanka      261\n",
       "8           Zimbabwe      202\n",
       "9         Bangladesh      199\n",
       "10          Pakistan      195\n",
       "11             Kenya       89\n",
       "12           Ireland       51\n",
       "13            Canada       39\n",
       "14       Netherlands       35\n",
       "15          Scotland       33\n",
       "16          Malaysia        9\n",
       "17         Hong Kong        4\n",
       "18  Papua New Guinea        2"
      ]
     },
     "execution_count": 27,
     "metadata": {},
     "output_type": "execute_result"
    }
   ],
   "source": [
    "Host_countries.columns = [\"Country\", \"Matches\"]\n",
    "Host_countries"
   ]
  },
  {
   "cell_type": "code",
   "execution_count": 28,
   "metadata": {},
   "outputs": [
    {
     "data": {
      "text/plain": [
       "3683"
      ]
     },
     "execution_count": 28,
     "metadata": {},
     "output_type": "execute_result"
    }
   ],
   "source": [
    "total_hosted_matches = Host_countries.Matches.sum()\n",
    "total_hosted_matches"
   ]
  },
  {
   "cell_type": "code",
   "execution_count": 29,
   "metadata": {},
   "outputs": [
    {
     "data": {
      "text/html": [
       "<div>\n",
       "<style scoped>\n",
       "    .dataframe tbody tr th:only-of-type {\n",
       "        vertical-align: middle;\n",
       "    }\n",
       "\n",
       "    .dataframe tbody tr th {\n",
       "        vertical-align: top;\n",
       "    }\n",
       "\n",
       "    .dataframe thead th {\n",
       "        text-align: right;\n",
       "    }\n",
       "</style>\n",
       "<table border=\"1\" class=\"dataframe\">\n",
       "  <thead>\n",
       "    <tr style=\"text-align: right;\">\n",
       "      <th></th>\n",
       "      <th>Country</th>\n",
       "      <th>Matches</th>\n",
       "      <th>perc</th>\n",
       "    </tr>\n",
       "  </thead>\n",
       "  <tbody>\n",
       "    <tr>\n",
       "      <th>0</th>\n",
       "      <td>Australia</td>\n",
       "      <td>585</td>\n",
       "      <td>16</td>\n",
       "    </tr>\n",
       "    <tr>\n",
       "      <th>1</th>\n",
       "      <td>India</td>\n",
       "      <td>396</td>\n",
       "      <td>11</td>\n",
       "    </tr>\n",
       "    <tr>\n",
       "      <th>2</th>\n",
       "      <td>England</td>\n",
       "      <td>387</td>\n",
       "      <td>11</td>\n",
       "    </tr>\n",
       "    <tr>\n",
       "      <th>3</th>\n",
       "      <td>South Africa</td>\n",
       "      <td>314</td>\n",
       "      <td>9</td>\n",
       "    </tr>\n",
       "    <tr>\n",
       "      <th>4</th>\n",
       "      <td>New Zealand</td>\n",
       "      <td>301</td>\n",
       "      <td>8</td>\n",
       "    </tr>\n",
       "    <tr>\n",
       "      <th>5</th>\n",
       "      <td>U.A.E.</td>\n",
       "      <td>296</td>\n",
       "      <td>8</td>\n",
       "    </tr>\n",
       "    <tr>\n",
       "      <th>6</th>\n",
       "      <td>West Indies</td>\n",
       "      <td>285</td>\n",
       "      <td>8</td>\n",
       "    </tr>\n",
       "    <tr>\n",
       "      <th>7</th>\n",
       "      <td>Sri Lanka</td>\n",
       "      <td>261</td>\n",
       "      <td>7</td>\n",
       "    </tr>\n",
       "    <tr>\n",
       "      <th>8</th>\n",
       "      <td>Zimbabwe</td>\n",
       "      <td>202</td>\n",
       "      <td>5</td>\n",
       "    </tr>\n",
       "    <tr>\n",
       "      <th>9</th>\n",
       "      <td>Bangladesh</td>\n",
       "      <td>199</td>\n",
       "      <td>5</td>\n",
       "    </tr>\n",
       "    <tr>\n",
       "      <th>10</th>\n",
       "      <td>Pakistan</td>\n",
       "      <td>195</td>\n",
       "      <td>5</td>\n",
       "    </tr>\n",
       "    <tr>\n",
       "      <th>11</th>\n",
       "      <td>Kenya</td>\n",
       "      <td>89</td>\n",
       "      <td>2</td>\n",
       "    </tr>\n",
       "    <tr>\n",
       "      <th>12</th>\n",
       "      <td>Ireland</td>\n",
       "      <td>51</td>\n",
       "      <td>1</td>\n",
       "    </tr>\n",
       "    <tr>\n",
       "      <th>13</th>\n",
       "      <td>Canada</td>\n",
       "      <td>39</td>\n",
       "      <td>1</td>\n",
       "    </tr>\n",
       "    <tr>\n",
       "      <th>14</th>\n",
       "      <td>Netherlands</td>\n",
       "      <td>35</td>\n",
       "      <td>1</td>\n",
       "    </tr>\n",
       "    <tr>\n",
       "      <th>15</th>\n",
       "      <td>Scotland</td>\n",
       "      <td>33</td>\n",
       "      <td>1</td>\n",
       "    </tr>\n",
       "    <tr>\n",
       "      <th>16</th>\n",
       "      <td>Malaysia</td>\n",
       "      <td>9</td>\n",
       "      <td>0</td>\n",
       "    </tr>\n",
       "    <tr>\n",
       "      <th>17</th>\n",
       "      <td>Hong Kong</td>\n",
       "      <td>4</td>\n",
       "      <td>0</td>\n",
       "    </tr>\n",
       "    <tr>\n",
       "      <th>18</th>\n",
       "      <td>Papua New Guinea</td>\n",
       "      <td>2</td>\n",
       "      <td>0</td>\n",
       "    </tr>\n",
       "  </tbody>\n",
       "</table>\n",
       "</div>"
      ],
      "text/plain": [
       "             Country  Matches  perc\n",
       "0          Australia      585    16\n",
       "1              India      396    11\n",
       "2            England      387    11\n",
       "3       South Africa      314     9\n",
       "4        New Zealand      301     8\n",
       "5             U.A.E.      296     8\n",
       "6        West Indies      285     8\n",
       "7          Sri Lanka      261     7\n",
       "8           Zimbabwe      202     5\n",
       "9         Bangladesh      199     5\n",
       "10          Pakistan      195     5\n",
       "11             Kenya       89     2\n",
       "12           Ireland       51     1\n",
       "13            Canada       39     1\n",
       "14       Netherlands       35     1\n",
       "15          Scotland       33     1\n",
       "16          Malaysia        9     0\n",
       "17         Hong Kong        4     0\n",
       "18  Papua New Guinea        2     0"
      ]
     },
     "execution_count": 29,
     "metadata": {},
     "output_type": "execute_result"
    }
   ],
   "source": [
    "Host_countries['perc'] = 0\n",
    "def get_host_perc(Matches):\n",
    "    val = round( ((Matches*100)/3683))\n",
    "    return val\n",
    "Host_countries['perc'] = Host_countries[\"Matches\"].apply(get_host_perc)\n",
    "Host_countries"
   ]
  },
  {
   "cell_type": "code",
   "execution_count": null,
   "metadata": {},
   "outputs": [],
   "source": []
  },
  {
   "cell_type": "code",
   "execution_count": 30,
   "metadata": {},
   "outputs": [
    {
     "data": {
      "image/png": "[encoded data removed]",
      "text/plain": [
       "<Figure size 720x1080 with 1 Axes>"
      ]
     },
     "metadata": {},
     "output_type": "display_data"
    }
   ],
   "source": [
    "# Host_countries.iloc[:-1,:]['perc']\n",
    "# # Host_countries.Country.iloc[:-1,:]\n",
    "plt.figure(figsize=(10,15))\n",
    "sns.set_style('darkgrid')\n",
    "plt.pie(Host_countries.iloc[:-3,:]['perc'],  labels = Host_countries.iloc[:-3,:]['Country'], startangle=45, labeldistance=1.05, rotatelabels =True )\n",
    "plt.show()"
   ]
  },
  {
   "cell_type": "code",
   "execution_count": 31,
   "metadata": {},
   "outputs": [
    {
     "data": {
      "image/png": "[encoded data removed]",
      "text/plain": [
       "<Figure size 1152x576 with 1 Axes>"
      ]
     },
     "metadata": {},
     "output_type": "display_data"
    }
   ],
   "source": [
    "plt.figure(figsize = (16,8))\n",
    "sns.set_style('darkgrid')\n",
    "plt.bar(Host_countries.Country, Host_countries.Matches)\n",
    "plt.title(\"No. of matches each country hosted\")\n",
    "plt.xticks(rotation = \"vertical\")\n",
    "plt.show()"
   ]
  },
  {
   "cell_type": "code",
   "execution_count": null,
   "metadata": {},
   "outputs": [],
   "source": [
    "fig, ax = plt.subplots()\n",
    "ax = plt.bar(host_countries.Country, host_countries.Matches)\n",
    "ax."
   ]
  },
  {
   "cell_type": "code",
   "execution_count": null,
   "metadata": {},
   "outputs": [],
   "source": []
  },
  {
   "cell_type": "markdown",
   "metadata": {},
   "source": [
    "### OBSERVATION:- Australia hosted most number of matches followed by India and england"
   ]
  },
  {
   "cell_type": "code",
   "execution_count": 32,
   "metadata": {},
   "outputs": [],
   "source": [
    "# No of wins by each team"
   ]
  },
  {
   "cell_type": "code",
   "execution_count": 33,
   "metadata": {},
   "outputs": [
    {
     "data": {
      "text/html": [
       "<div>\n",
       "<style scoped>\n",
       "    .dataframe tbody tr th:only-of-type {\n",
       "        vertical-align: middle;\n",
       "    }\n",
       "\n",
       "    .dataframe tbody tr th {\n",
       "        vertical-align: top;\n",
       "    }\n",
       "\n",
       "    .dataframe thead th {\n",
       "        text-align: right;\n",
       "    }\n",
       "</style>\n",
       "<table border=\"1\" class=\"dataframe\">\n",
       "  <thead>\n",
       "    <tr style=\"text-align: right;\">\n",
       "      <th></th>\n",
       "      <th>countries</th>\n",
       "      <th>wins</th>\n",
       "    </tr>\n",
       "  </thead>\n",
       "  <tbody>\n",
       "    <tr>\n",
       "      <th>0</th>\n",
       "      <td>Australia</td>\n",
       "      <td>552</td>\n",
       "    </tr>\n",
       "    <tr>\n",
       "      <th>1</th>\n",
       "      <td>India</td>\n",
       "      <td>475</td>\n",
       "    </tr>\n",
       "    <tr>\n",
       "      <th>2</th>\n",
       "      <td>Pakistan</td>\n",
       "      <td>467</td>\n",
       "    </tr>\n",
       "    <tr>\n",
       "      <th>3</th>\n",
       "      <td>West Indies</td>\n",
       "      <td>380</td>\n",
       "    </tr>\n",
       "    <tr>\n",
       "      <th>4</th>\n",
       "      <td>Sri Lanka</td>\n",
       "      <td>371</td>\n",
       "    </tr>\n",
       "    <tr>\n",
       "      <th>5</th>\n",
       "      <td>South Africa</td>\n",
       "      <td>361</td>\n",
       "    </tr>\n",
       "    <tr>\n",
       "      <th>6</th>\n",
       "      <td>England</td>\n",
       "      <td>343</td>\n",
       "    </tr>\n",
       "    <tr>\n",
       "      <th>7</th>\n",
       "      <td>New Zealand</td>\n",
       "      <td>324</td>\n",
       "    </tr>\n",
       "    <tr>\n",
       "      <th>8</th>\n",
       "      <td>Zimbabwe</td>\n",
       "      <td>129</td>\n",
       "    </tr>\n",
       "    <tr>\n",
       "      <th>9</th>\n",
       "      <td>Bangladesh</td>\n",
       "      <td>105</td>\n",
       "    </tr>\n",
       "    <tr>\n",
       "      <th>10</th>\n",
       "      <td>Ireland</td>\n",
       "      <td>51</td>\n",
       "    </tr>\n",
       "    <tr>\n",
       "      <th>11</th>\n",
       "      <td>Kenya</td>\n",
       "      <td>42</td>\n",
       "    </tr>\n",
       "    <tr>\n",
       "      <th>12</th>\n",
       "      <td>Afghanistan</td>\n",
       "      <td>42</td>\n",
       "    </tr>\n",
       "    <tr>\n",
       "      <th>13</th>\n",
       "      <td>Scotland</td>\n",
       "      <td>31</td>\n",
       "    </tr>\n",
       "    <tr>\n",
       "      <th>14</th>\n",
       "      <td>Netherlands</td>\n",
       "      <td>28</td>\n",
       "    </tr>\n",
       "    <tr>\n",
       "      <th>15</th>\n",
       "      <td>Canada</td>\n",
       "      <td>17</td>\n",
       "    </tr>\n",
       "    <tr>\n",
       "      <th>16</th>\n",
       "      <td>U.A.E.</td>\n",
       "      <td>9</td>\n",
       "    </tr>\n",
       "    <tr>\n",
       "      <th>17</th>\n",
       "      <td>Bermuda</td>\n",
       "      <td>7</td>\n",
       "    </tr>\n",
       "    <tr>\n",
       "      <th>18</th>\n",
       "      <td>Hong Kong</td>\n",
       "      <td>6</td>\n",
       "    </tr>\n",
       "    <tr>\n",
       "      <th>19</th>\n",
       "      <td>P.N.G.</td>\n",
       "      <td>5</td>\n",
       "    </tr>\n",
       "    <tr>\n",
       "      <th>20</th>\n",
       "      <td>Namibia</td>\n",
       "      <td>1</td>\n",
       "    </tr>\n",
       "    <tr>\n",
       "      <th>21</th>\n",
       "      <td>U.S.A.</td>\n",
       "      <td>1</td>\n",
       "    </tr>\n",
       "    <tr>\n",
       "      <th>22</th>\n",
       "      <td>East Africa</td>\n",
       "      <td>1</td>\n",
       "    </tr>\n",
       "  </tbody>\n",
       "</table>\n",
       "</div>"
      ],
      "text/plain": [
       "       countries  wins\n",
       "0      Australia   552\n",
       "1          India   475\n",
       "2       Pakistan   467\n",
       "3    West Indies   380\n",
       "4      Sri Lanka   371\n",
       "5   South Africa   361\n",
       "6        England   343\n",
       "7    New Zealand   324\n",
       "8       Zimbabwe   129\n",
       "9     Bangladesh   105\n",
       "10       Ireland    51\n",
       "11         Kenya    42\n",
       "12   Afghanistan    42\n",
       "13      Scotland    31\n",
       "14   Netherlands    28\n",
       "15        Canada    17\n",
       "16        U.A.E.     9\n",
       "17       Bermuda     7\n",
       "18     Hong Kong     6\n",
       "19        P.N.G.     5\n",
       "20       Namibia     1\n",
       "21        U.S.A.     1\n",
       "22   East Africa     1"
      ]
     },
     "execution_count": 33,
     "metadata": {},
     "output_type": "execute_result"
    }
   ],
   "source": [
    "wins_by_teams = df['Winner'].value_counts().reset_index()\n",
    "wins_by_teams.columns = [\"countries\", \"wins\"]\n",
    "wins_by_teams"
   ]
  },
  {
   "cell_type": "code",
   "execution_count": 34,
   "metadata": {},
   "outputs": [
    {
     "data": {
      "image/png": "[encoded data removed]",
      "text/plain": [
       "<Figure size 1152x576 with 1 Axes>"
      ]
     },
     "metadata": {},
     "output_type": "display_data"
    }
   ],
   "source": [
    "plt.figure(figsize = (16,8))\n",
    "sns.set_style('darkgrid')\n",
    "plt.bar(wins_by_teams.countries, wins_by_teams.wins)\n",
    "plt.xticks(rotation = \"vertical\")\n",
    "plt.show()"
   ]
  },
  {
   "cell_type": "code",
   "execution_count": 35,
   "metadata": {},
   "outputs": [],
   "source": [
    "def get_total_matches(team):\n",
    "    total_matches = df[ (df['Team 1'] == team) | (df['Team 2'] == team) ]\n",
    "    total_wins = df[df[\"Winner\"]==team]\n",
    "    tot_wins, c = total_wins.shape\n",
    "    matches_played, cols = total_matches.shape\n",
    "#     d = {\"Team\":team, \"Total_Matches\":matches_played,\"Total_Wins\":tot_wins}\n",
    "    d = [team,  matches_played, tot_wins]\n",
    "    return d"
   ]
  },
  {
   "cell_type": "code",
   "execution_count": 36,
   "metadata": {},
   "outputs": [
    {
     "name": "stdout",
     "output_type": "stream",
     "text": [
      "['Namibia', 8, 1]\n"
     ]
    }
   ],
   "source": [
    "print(get_total_matches(\"Namibia\"))"
   ]
  },
  {
   "cell_type": "code",
   "execution_count": 37,
   "metadata": {},
   "outputs": [
    {
     "data": {
      "text/plain": [
       "array(['Australia', 'England', 'New Zealand', 'West Indies', 'Pakistan',\n",
       "       'India', 'Sri Lanka', 'Zimbabwe', 'South Africa', 'Kenya',\n",
       "       'U.A.E.', 'Bangladesh', 'Canada', 'Netherlands', 'Bermuda',\n",
       "       'Ireland', 'Scotland', 'Afghanistan', 'P.N.G.', 'Hong Kong',\n",
       "       'Namibia', 'U.S.A.', 'East Africa'], dtype=object)"
      ]
     },
     "execution_count": 37,
     "metadata": {},
     "output_type": "execute_result"
    }
   ],
   "source": [
    "Teams"
   ]
  },
  {
   "cell_type": "code",
   "execution_count": 38,
   "metadata": {},
   "outputs": [
    {
     "data": {
      "text/html": [
       "<div>\n",
       "<style scoped>\n",
       "    .dataframe tbody tr th:only-of-type {\n",
       "        vertical-align: middle;\n",
       "    }\n",
       "\n",
       "    .dataframe tbody tr th {\n",
       "        vertical-align: top;\n",
       "    }\n",
       "\n",
       "    .dataframe thead th {\n",
       "        text-align: right;\n",
       "    }\n",
       "</style>\n",
       "<table border=\"1\" class=\"dataframe\">\n",
       "  <thead>\n",
       "    <tr style=\"text-align: right;\">\n",
       "      <th></th>\n",
       "      <th>Team</th>\n",
       "      <th>Total_Matches</th>\n",
       "      <th>Total_Wins</th>\n",
       "    </tr>\n",
       "  </thead>\n",
       "  <tbody>\n",
       "    <tr>\n",
       "      <th>0</th>\n",
       "      <td>Australia</td>\n",
       "      <td>859</td>\n",
       "      <td>552</td>\n",
       "    </tr>\n",
       "    <tr>\n",
       "      <th>1</th>\n",
       "      <td>England</td>\n",
       "      <td>664</td>\n",
       "      <td>343</td>\n",
       "    </tr>\n",
       "    <tr>\n",
       "      <th>2</th>\n",
       "      <td>New Zealand</td>\n",
       "      <td>686</td>\n",
       "      <td>324</td>\n",
       "    </tr>\n",
       "    <tr>\n",
       "      <th>3</th>\n",
       "      <td>West Indies</td>\n",
       "      <td>731</td>\n",
       "      <td>380</td>\n",
       "    </tr>\n",
       "    <tr>\n",
       "      <th>4</th>\n",
       "      <td>Pakistan</td>\n",
       "      <td>855</td>\n",
       "      <td>467</td>\n",
       "    </tr>\n",
       "    <tr>\n",
       "      <th>5</th>\n",
       "      <td>India</td>\n",
       "      <td>880</td>\n",
       "      <td>475</td>\n",
       "    </tr>\n",
       "    <tr>\n",
       "      <th>6</th>\n",
       "      <td>Sri Lanka</td>\n",
       "      <td>767</td>\n",
       "      <td>371</td>\n",
       "    </tr>\n",
       "    <tr>\n",
       "      <th>7</th>\n",
       "      <td>Zimbabwe</td>\n",
       "      <td>474</td>\n",
       "      <td>129</td>\n",
       "    </tr>\n",
       "    <tr>\n",
       "      <th>8</th>\n",
       "      <td>South Africa</td>\n",
       "      <td>561</td>\n",
       "      <td>361</td>\n",
       "    </tr>\n",
       "    <tr>\n",
       "      <th>9</th>\n",
       "      <td>Kenya</td>\n",
       "      <td>149</td>\n",
       "      <td>42</td>\n",
       "    </tr>\n",
       "    <tr>\n",
       "      <th>10</th>\n",
       "      <td>U.A.E.</td>\n",
       "      <td>35</td>\n",
       "      <td>9</td>\n",
       "    </tr>\n",
       "    <tr>\n",
       "      <th>11</th>\n",
       "      <td>Bangladesh</td>\n",
       "      <td>328</td>\n",
       "      <td>105</td>\n",
       "    </tr>\n",
       "    <tr>\n",
       "      <th>12</th>\n",
       "      <td>Canada</td>\n",
       "      <td>75</td>\n",
       "      <td>17</td>\n",
       "    </tr>\n",
       "    <tr>\n",
       "      <th>13</th>\n",
       "      <td>Netherlands</td>\n",
       "      <td>72</td>\n",
       "      <td>28</td>\n",
       "    </tr>\n",
       "    <tr>\n",
       "      <th>14</th>\n",
       "      <td>Bermuda</td>\n",
       "      <td>36</td>\n",
       "      <td>7</td>\n",
       "    </tr>\n",
       "    <tr>\n",
       "      <th>15</th>\n",
       "      <td>Ireland</td>\n",
       "      <td>113</td>\n",
       "      <td>51</td>\n",
       "    </tr>\n",
       "    <tr>\n",
       "      <th>16</th>\n",
       "      <td>Scotland</td>\n",
       "      <td>87</td>\n",
       "      <td>31</td>\n",
       "    </tr>\n",
       "    <tr>\n",
       "      <th>17</th>\n",
       "      <td>Afghanistan</td>\n",
       "      <td>81</td>\n",
       "      <td>42</td>\n",
       "    </tr>\n",
       "    <tr>\n",
       "      <th>18</th>\n",
       "      <td>P.N.G.</td>\n",
       "      <td>10</td>\n",
       "      <td>5</td>\n",
       "    </tr>\n",
       "    <tr>\n",
       "      <th>19</th>\n",
       "      <td>Hong Kong</td>\n",
       "      <td>18</td>\n",
       "      <td>6</td>\n",
       "    </tr>\n",
       "    <tr>\n",
       "      <th>20</th>\n",
       "      <td>Namibia</td>\n",
       "      <td>8</td>\n",
       "      <td>1</td>\n",
       "    </tr>\n",
       "    <tr>\n",
       "      <th>21</th>\n",
       "      <td>U.S.A.</td>\n",
       "      <td>3</td>\n",
       "      <td>1</td>\n",
       "    </tr>\n",
       "    <tr>\n",
       "      <th>22</th>\n",
       "      <td>East Africa</td>\n",
       "      <td>4</td>\n",
       "      <td>1</td>\n",
       "    </tr>\n",
       "  </tbody>\n",
       "</table>\n",
       "</div>"
      ],
      "text/plain": [
       "            Team  Total_Matches  Total_Wins\n",
       "0      Australia            859         552\n",
       "1        England            664         343\n",
       "2    New Zealand            686         324\n",
       "3    West Indies            731         380\n",
       "4       Pakistan            855         467\n",
       "5          India            880         475\n",
       "6      Sri Lanka            767         371\n",
       "7       Zimbabwe            474         129\n",
       "8   South Africa            561         361\n",
       "9          Kenya            149          42\n",
       "10        U.A.E.             35           9\n",
       "11    Bangladesh            328         105\n",
       "12        Canada             75          17\n",
       "13   Netherlands             72          28\n",
       "14       Bermuda             36           7\n",
       "15       Ireland            113          51\n",
       "16      Scotland             87          31\n",
       "17   Afghanistan             81          42\n",
       "18        P.N.G.             10           5\n",
       "19     Hong Kong             18           6\n",
       "20       Namibia              8           1\n",
       "21        U.S.A.              3           1\n",
       "22   East Africa              4           1"
      ]
     },
     "execution_count": 38,
     "metadata": {},
     "output_type": "execute_result"
    }
   ],
   "source": [
    "matches_won_of_total = pd.DataFrame(columns = [\"Team\",\"Total_Matches\",\"Total_Wins\"])\n",
    "for team in Teams:\n",
    "    d = get_total_matches(team)\n",
    "#     print(d)\n",
    "    matches_won_of_total.loc[len(matches_won_of_total)] = d\n",
    "matches_won_of_total "
   ]
  },
  {
   "cell_type": "code",
   "execution_count": 39,
   "metadata": {},
   "outputs": [
    {
     "data": {
      "text/html": [
       "<div>\n",
       "<style scoped>\n",
       "    .dataframe tbody tr th:only-of-type {\n",
       "        vertical-align: middle;\n",
       "    }\n",
       "\n",
       "    .dataframe tbody tr th {\n",
       "        vertical-align: top;\n",
       "    }\n",
       "\n",
       "    .dataframe thead th {\n",
       "        text-align: right;\n",
       "    }\n",
       "</style>\n",
       "<table border=\"1\" class=\"dataframe\">\n",
       "  <thead>\n",
       "    <tr style=\"text-align: right;\">\n",
       "      <th></th>\n",
       "      <th>Team</th>\n",
       "      <th>Total_Matches</th>\n",
       "      <th>Total_Wins</th>\n",
       "    </tr>\n",
       "  </thead>\n",
       "  <tbody>\n",
       "    <tr>\n",
       "      <th>0</th>\n",
       "      <td>Australia</td>\n",
       "      <td>859</td>\n",
       "      <td>552</td>\n",
       "    </tr>\n",
       "    <tr>\n",
       "      <th>1</th>\n",
       "      <td>England</td>\n",
       "      <td>664</td>\n",
       "      <td>343</td>\n",
       "    </tr>\n",
       "    <tr>\n",
       "      <th>2</th>\n",
       "      <td>New Zealand</td>\n",
       "      <td>686</td>\n",
       "      <td>324</td>\n",
       "    </tr>\n",
       "    <tr>\n",
       "      <th>3</th>\n",
       "      <td>West Indies</td>\n",
       "      <td>731</td>\n",
       "      <td>380</td>\n",
       "    </tr>\n",
       "    <tr>\n",
       "      <th>4</th>\n",
       "      <td>Pakistan</td>\n",
       "      <td>855</td>\n",
       "      <td>467</td>\n",
       "    </tr>\n",
       "  </tbody>\n",
       "</table>\n",
       "</div>"
      ],
      "text/plain": [
       "          Team  Total_Matches  Total_Wins\n",
       "0    Australia            859         552\n",
       "1      England            664         343\n",
       "2  New Zealand            686         324\n",
       "3  West Indies            731         380\n",
       "4     Pakistan            855         467"
      ]
     },
     "execution_count": 39,
     "metadata": {},
     "output_type": "execute_result"
    }
   ],
   "source": [
    "mwt = matches_won_of_total\n",
    "mwt.head()"
   ]
  },
  {
   "cell_type": "code",
   "execution_count": 40,
   "metadata": {},
   "outputs": [
    {
     "data": {
      "image/png": "[encoded data removed]",
      "text/plain": [
       "<Figure size 1152x432 with 1 Axes>"
      ]
     },
     "metadata": {},
     "output_type": "display_data"
    }
   ],
   "source": [
    "plt.figure(figsize = (16,6))\n",
    "sns.set_style('darkgrid')\n",
    "plt.bar(mwt['Team'], mwt['Total_Matches'], label = \"Total Number of matches played\")\n",
    "plt.bar(mwt['Team'], mwt['Total_Wins'], label = \"Total Number of wins\")\n",
    "plt.xticks(rotation = \"vertical\")\n",
    "plt.title(\"# of matches played VS # of matches won\")\n",
    "plt.legend()\n",
    "plt.show()"
   ]
  },
  {
   "cell_type": "code",
   "execution_count": 41,
   "metadata": {},
   "outputs": [
    {
     "data": {
      "text/plain": [
       "pandas.core.series.Series"
      ]
     },
     "execution_count": 41,
     "metadata": {},
     "output_type": "execute_result"
    }
   ],
   "source": [
    "type(matches_won_of_total.Total_Matches)"
   ]
  },
  {
   "cell_type": "code",
   "execution_count": 42,
   "metadata": {},
   "outputs": [
    {
     "data": {
      "text/html": [
       "<div>\n",
       "<style scoped>\n",
       "    .dataframe tbody tr th:only-of-type {\n",
       "        vertical-align: middle;\n",
       "    }\n",
       "\n",
       "    .dataframe tbody tr th {\n",
       "        vertical-align: top;\n",
       "    }\n",
       "\n",
       "    .dataframe thead th {\n",
       "        text-align: right;\n",
       "    }\n",
       "</style>\n",
       "<table border=\"1\" class=\"dataframe\">\n",
       "  <thead>\n",
       "    <tr style=\"text-align: right;\">\n",
       "      <th></th>\n",
       "      <th>Unnamed: 0</th>\n",
       "      <th>Match_id</th>\n",
       "      <th>Team 1</th>\n",
       "      <th>Team 2</th>\n",
       "      <th>Winners_inng</th>\n",
       "      <th>Venue</th>\n",
       "      <th>Match Date</th>\n",
       "      <th>Winner</th>\n",
       "      <th>Host_Country</th>\n",
       "      <th>Venue_Team1</th>\n",
       "      <th>Venue_Team2</th>\n",
       "      <th>Innings_Team1</th>\n",
       "      <th>Innings_Team2</th>\n",
       "      <th>Year</th>\n",
       "    </tr>\n",
       "  </thead>\n",
       "  <tbody>\n",
       "    <tr>\n",
       "      <th>0</th>\n",
       "      <td>0</td>\n",
       "      <td>1</td>\n",
       "      <td>Australia</td>\n",
       "      <td>England</td>\n",
       "      <td>2</td>\n",
       "      <td>Melbourne</td>\n",
       "      <td>Jan 5, 1971</td>\n",
       "      <td>Australia</td>\n",
       "      <td>Australia</td>\n",
       "      <td>Home</td>\n",
       "      <td>Away</td>\n",
       "      <td>Second</td>\n",
       "      <td>First</td>\n",
       "      <td>1971</td>\n",
       "    </tr>\n",
       "    <tr>\n",
       "      <th>1</th>\n",
       "      <td>1</td>\n",
       "      <td>2</td>\n",
       "      <td>England</td>\n",
       "      <td>Australia</td>\n",
       "      <td>2</td>\n",
       "      <td>Manchester</td>\n",
       "      <td>Aug 24, 1972</td>\n",
       "      <td>England</td>\n",
       "      <td>England</td>\n",
       "      <td>Home</td>\n",
       "      <td>Away</td>\n",
       "      <td>Second</td>\n",
       "      <td>First</td>\n",
       "      <td>1972</td>\n",
       "    </tr>\n",
       "  </tbody>\n",
       "</table>\n",
       "</div>"
      ],
      "text/plain": [
       "   Unnamed: 0  Match_id     Team 1     Team 2 Winners_inng       Venue  \\\n",
       "0           0         1  Australia    England            2   Melbourne   \n",
       "1           1         2    England  Australia            2  Manchester   \n",
       "\n",
       "     Match Date     Winner Host_Country Venue_Team1 Venue_Team2 Innings_Team1  \\\n",
       "0   Jan 5, 1971  Australia    Australia        Home        Away        Second   \n",
       "1  Aug 24, 1972    England      England        Home        Away        Second   \n",
       "\n",
       "  Innings_Team2  Year  \n",
       "0         First  1971  \n",
       "1         First  1972  "
      ]
     },
     "execution_count": 42,
     "metadata": {},
     "output_type": "execute_result"
    }
   ],
   "source": [
    "df.head(2)"
   ]
  },
  {
   "cell_type": "markdown",
   "metadata": {},
   "source": [
    "## At Home Wins vs Loss"
   ]
  },
  {
   "cell_type": "code",
   "execution_count": 43,
   "metadata": {},
   "outputs": [
    {
     "name": "stdout",
     "output_type": "stream",
     "text": [
      "['Australia', 409, 274]\n"
     ]
    }
   ],
   "source": [
    "# At Home grounds\n",
    "# total_played\n",
    "\n",
    "def total_matches_at_Home(team):\n",
    "    home =  df [ (   (df['Team 1'] == team) | (df['Team 2'] == team) ) &  (df['Host_Country'] == team)  ]\n",
    "    home_won = df[ ( (df[\"Team 1\"] == team) | (df['Team 2'] == team) ) &  (df['Host_Country'] == team) &  (df['Winner']==team) ]\n",
    "    wrows,wcols = home_won.shape  \n",
    "    rows, cols = home.shape\n",
    "    return [team,rows,wrows]\n",
    "\n",
    "print(total_matches_at_Home(\"Australia\"))"
   ]
  },
  {
   "cell_type": "code",
   "execution_count": 44,
   "metadata": {},
   "outputs": [
    {
     "data": {
      "text/html": [
       "<div>\n",
       "<style scoped>\n",
       "    .dataframe tbody tr th:only-of-type {\n",
       "        vertical-align: middle;\n",
       "    }\n",
       "\n",
       "    .dataframe tbody tr th {\n",
       "        vertical-align: top;\n",
       "    }\n",
       "\n",
       "    .dataframe thead th {\n",
       "        text-align: right;\n",
       "    }\n",
       "</style>\n",
       "<table border=\"1\" class=\"dataframe\">\n",
       "  <thead>\n",
       "    <tr style=\"text-align: right;\">\n",
       "      <th></th>\n",
       "      <th>Country</th>\n",
       "      <th>Total_Matches</th>\n",
       "      <th>Total_Matches_won</th>\n",
       "    </tr>\n",
       "  </thead>\n",
       "  <tbody>\n",
       "    <tr>\n",
       "      <th>0</th>\n",
       "      <td>Australia</td>\n",
       "      <td>409</td>\n",
       "      <td>274</td>\n",
       "    </tr>\n",
       "    <tr>\n",
       "      <th>1</th>\n",
       "      <td>England</td>\n",
       "      <td>270</td>\n",
       "      <td>160</td>\n",
       "    </tr>\n",
       "    <tr>\n",
       "      <th>2</th>\n",
       "      <td>New Zealand</td>\n",
       "      <td>271</td>\n",
       "      <td>162</td>\n",
       "    </tr>\n",
       "    <tr>\n",
       "      <th>3</th>\n",
       "      <td>West Indies</td>\n",
       "      <td>230</td>\n",
       "      <td>129</td>\n",
       "    </tr>\n",
       "    <tr>\n",
       "      <th>4</th>\n",
       "      <td>Pakistan</td>\n",
       "      <td>165</td>\n",
       "      <td>101</td>\n",
       "    </tr>\n",
       "    <tr>\n",
       "      <th>5</th>\n",
       "      <td>India</td>\n",
       "      <td>295</td>\n",
       "      <td>179</td>\n",
       "    </tr>\n",
       "    <tr>\n",
       "      <th>6</th>\n",
       "      <td>Sri Lanka</td>\n",
       "      <td>211</td>\n",
       "      <td>137</td>\n",
       "    </tr>\n",
       "    <tr>\n",
       "      <th>7</th>\n",
       "      <td>Zimbabwe</td>\n",
       "      <td>189</td>\n",
       "      <td>58</td>\n",
       "    </tr>\n",
       "    <tr>\n",
       "      <th>8</th>\n",
       "      <td>South Africa</td>\n",
       "      <td>229</td>\n",
       "      <td>168</td>\n",
       "    </tr>\n",
       "    <tr>\n",
       "      <th>9</th>\n",
       "      <td>Kenya</td>\n",
       "      <td>55</td>\n",
       "      <td>23</td>\n",
       "    </tr>\n",
       "    <tr>\n",
       "      <th>10</th>\n",
       "      <td>U.A.E.</td>\n",
       "      <td>15</td>\n",
       "      <td>7</td>\n",
       "    </tr>\n",
       "    <tr>\n",
       "      <th>11</th>\n",
       "      <td>Bangladesh</td>\n",
       "      <td>156</td>\n",
       "      <td>64</td>\n",
       "    </tr>\n",
       "    <tr>\n",
       "      <th>12</th>\n",
       "      <td>Canada</td>\n",
       "      <td>17</td>\n",
       "      <td>4</td>\n",
       "    </tr>\n",
       "    <tr>\n",
       "      <th>13</th>\n",
       "      <td>Netherlands</td>\n",
       "      <td>20</td>\n",
       "      <td>11</td>\n",
       "    </tr>\n",
       "    <tr>\n",
       "      <th>14</th>\n",
       "      <td>Bermuda</td>\n",
       "      <td>0</td>\n",
       "      <td>0</td>\n",
       "    </tr>\n",
       "    <tr>\n",
       "      <th>15</th>\n",
       "      <td>Ireland</td>\n",
       "      <td>42</td>\n",
       "      <td>20</td>\n",
       "    </tr>\n",
       "    <tr>\n",
       "      <th>16</th>\n",
       "      <td>Scotland</td>\n",
       "      <td>31</td>\n",
       "      <td>14</td>\n",
       "    </tr>\n",
       "    <tr>\n",
       "      <th>17</th>\n",
       "      <td>Afghanistan</td>\n",
       "      <td>0</td>\n",
       "      <td>0</td>\n",
       "    </tr>\n",
       "    <tr>\n",
       "      <th>18</th>\n",
       "      <td>P.N.G.</td>\n",
       "      <td>0</td>\n",
       "      <td>0</td>\n",
       "    </tr>\n",
       "    <tr>\n",
       "      <th>19</th>\n",
       "      <td>Hong Kong</td>\n",
       "      <td>4</td>\n",
       "      <td>3</td>\n",
       "    </tr>\n",
       "    <tr>\n",
       "      <th>20</th>\n",
       "      <td>Namibia</td>\n",
       "      <td>0</td>\n",
       "      <td>0</td>\n",
       "    </tr>\n",
       "    <tr>\n",
       "      <th>21</th>\n",
       "      <td>U.S.A.</td>\n",
       "      <td>0</td>\n",
       "      <td>0</td>\n",
       "    </tr>\n",
       "    <tr>\n",
       "      <th>22</th>\n",
       "      <td>East Africa</td>\n",
       "      <td>0</td>\n",
       "      <td>0</td>\n",
       "    </tr>\n",
       "  </tbody>\n",
       "</table>\n",
       "</div>"
      ],
      "text/plain": [
       "         Country  Total_Matches  Total_Matches_won\n",
       "0      Australia            409                274\n",
       "1        England            270                160\n",
       "2    New Zealand            271                162\n",
       "3    West Indies            230                129\n",
       "4       Pakistan            165                101\n",
       "5          India            295                179\n",
       "6      Sri Lanka            211                137\n",
       "7       Zimbabwe            189                 58\n",
       "8   South Africa            229                168\n",
       "9          Kenya             55                 23\n",
       "10        U.A.E.             15                  7\n",
       "11    Bangladesh            156                 64\n",
       "12        Canada             17                  4\n",
       "13   Netherlands             20                 11\n",
       "14       Bermuda              0                  0\n",
       "15       Ireland             42                 20\n",
       "16      Scotland             31                 14\n",
       "17   Afghanistan              0                  0\n",
       "18        P.N.G.              0                  0\n",
       "19     Hong Kong              4                  3\n",
       "20       Namibia              0                  0\n",
       "21        U.S.A.              0                  0\n",
       "22   East Africa              0                  0"
      ]
     },
     "execution_count": 44,
     "metadata": {},
     "output_type": "execute_result"
    }
   ],
   "source": [
    "Home = pd.DataFrame(columns = [\"Country\", \"Total_Matches\", \"Total_Matches_won\"])\n",
    "for team in Teams:\n",
    "    li = total_matches_at_Home(team)\n",
    "    Home.loc[len(Home)] = li\n",
    "Home"
   ]
  },
  {
   "cell_type": "code",
   "execution_count": 45,
   "metadata": {},
   "outputs": [
    {
     "data": {
      "image/png": "[encoded data removed]",
      "text/plain": [
       "<Figure size 1152x576 with 1 Axes>"
      ]
     },
     "metadata": {},
     "output_type": "display_data"
    }
   ],
   "source": [
    "plt.figure(figsize=(16,8))\n",
    "sns.set_style('darkgrid')\n",
    "plt.bar(Home.Country, Home.Total_Matches, label = \"Total Matches played at Home\")\n",
    "plt.bar(Home.Country, Home.Total_Matches_won, label = \"Total Matches won at Home\")\n",
    "plt.xticks(rotation = \"vertical\")\n",
    "plt.legend()\n",
    "plt.show()"
   ]
  },
  {
   "cell_type": "code",
   "execution_count": 46,
   "metadata": {},
   "outputs": [
    {
     "name": "stdout",
     "output_type": "stream",
     "text": [
      "['Australia', 450, 278]\n"
     ]
    }
   ],
   "source": [
    "def total_matches_at_away_Home(team):\n",
    "    home =  df [ (   (df['Team 1'] == team) | (df['Team 2'] == team) ) &  (df['Host_Country'] != team)  ]\n",
    "    home_won = df[ ( (df[\"Team 1\"] == team) | (df['Team 2'] == team) ) &  (df['Host_Country'] != team) &  (df['Winner']==team) ]\n",
    "    arows,wcols = home_won.shape  \n",
    "    rows, cols = home.shape\n",
    "    return [team,rows,arows]\n",
    "\n",
    "print(total_matches_at_away_Home(\"Australia\"))"
   ]
  },
  {
   "cell_type": "code",
   "execution_count": 47,
   "metadata": {},
   "outputs": [
    {
     "data": {
      "text/html": [
       "<div>\n",
       "<style scoped>\n",
       "    .dataframe tbody tr th:only-of-type {\n",
       "        vertical-align: middle;\n",
       "    }\n",
       "\n",
       "    .dataframe tbody tr th {\n",
       "        vertical-align: top;\n",
       "    }\n",
       "\n",
       "    .dataframe thead th {\n",
       "        text-align: right;\n",
       "    }\n",
       "</style>\n",
       "<table border=\"1\" class=\"dataframe\">\n",
       "  <thead>\n",
       "    <tr style=\"text-align: right;\">\n",
       "      <th></th>\n",
       "      <th>Country</th>\n",
       "      <th>Total_Matches</th>\n",
       "      <th>Total_Matches_won</th>\n",
       "    </tr>\n",
       "  </thead>\n",
       "  <tbody>\n",
       "    <tr>\n",
       "      <th>0</th>\n",
       "      <td>Australia</td>\n",
       "      <td>450</td>\n",
       "      <td>278</td>\n",
       "    </tr>\n",
       "    <tr>\n",
       "      <th>1</th>\n",
       "      <td>England</td>\n",
       "      <td>394</td>\n",
       "      <td>183</td>\n",
       "    </tr>\n",
       "    <tr>\n",
       "      <th>2</th>\n",
       "      <td>New Zealand</td>\n",
       "      <td>415</td>\n",
       "      <td>162</td>\n",
       "    </tr>\n",
       "    <tr>\n",
       "      <th>3</th>\n",
       "      <td>West Indies</td>\n",
       "      <td>501</td>\n",
       "      <td>251</td>\n",
       "    </tr>\n",
       "    <tr>\n",
       "      <th>4</th>\n",
       "      <td>Pakistan</td>\n",
       "      <td>690</td>\n",
       "      <td>366</td>\n",
       "    </tr>\n",
       "    <tr>\n",
       "      <th>5</th>\n",
       "      <td>India</td>\n",
       "      <td>585</td>\n",
       "      <td>296</td>\n",
       "    </tr>\n",
       "    <tr>\n",
       "      <th>6</th>\n",
       "      <td>Sri Lanka</td>\n",
       "      <td>556</td>\n",
       "      <td>234</td>\n",
       "    </tr>\n",
       "    <tr>\n",
       "      <th>7</th>\n",
       "      <td>Zimbabwe</td>\n",
       "      <td>285</td>\n",
       "      <td>71</td>\n",
       "    </tr>\n",
       "    <tr>\n",
       "      <th>8</th>\n",
       "      <td>South Africa</td>\n",
       "      <td>332</td>\n",
       "      <td>193</td>\n",
       "    </tr>\n",
       "    <tr>\n",
       "      <th>9</th>\n",
       "      <td>Kenya</td>\n",
       "      <td>94</td>\n",
       "      <td>19</td>\n",
       "    </tr>\n",
       "    <tr>\n",
       "      <th>10</th>\n",
       "      <td>U.A.E.</td>\n",
       "      <td>20</td>\n",
       "      <td>2</td>\n",
       "    </tr>\n",
       "    <tr>\n",
       "      <th>11</th>\n",
       "      <td>Bangladesh</td>\n",
       "      <td>172</td>\n",
       "      <td>41</td>\n",
       "    </tr>\n",
       "    <tr>\n",
       "      <th>12</th>\n",
       "      <td>Canada</td>\n",
       "      <td>58</td>\n",
       "      <td>13</td>\n",
       "    </tr>\n",
       "    <tr>\n",
       "      <th>13</th>\n",
       "      <td>Netherlands</td>\n",
       "      <td>52</td>\n",
       "      <td>17</td>\n",
       "    </tr>\n",
       "    <tr>\n",
       "      <th>14</th>\n",
       "      <td>Bermuda</td>\n",
       "      <td>36</td>\n",
       "      <td>7</td>\n",
       "    </tr>\n",
       "    <tr>\n",
       "      <th>15</th>\n",
       "      <td>Ireland</td>\n",
       "      <td>71</td>\n",
       "      <td>31</td>\n",
       "    </tr>\n",
       "    <tr>\n",
       "      <th>16</th>\n",
       "      <td>Scotland</td>\n",
       "      <td>56</td>\n",
       "      <td>17</td>\n",
       "    </tr>\n",
       "    <tr>\n",
       "      <th>17</th>\n",
       "      <td>Afghanistan</td>\n",
       "      <td>81</td>\n",
       "      <td>42</td>\n",
       "    </tr>\n",
       "    <tr>\n",
       "      <th>18</th>\n",
       "      <td>P.N.G.</td>\n",
       "      <td>10</td>\n",
       "      <td>5</td>\n",
       "    </tr>\n",
       "    <tr>\n",
       "      <th>19</th>\n",
       "      <td>Hong Kong</td>\n",
       "      <td>14</td>\n",
       "      <td>3</td>\n",
       "    </tr>\n",
       "    <tr>\n",
       "      <th>20</th>\n",
       "      <td>Namibia</td>\n",
       "      <td>8</td>\n",
       "      <td>1</td>\n",
       "    </tr>\n",
       "    <tr>\n",
       "      <th>21</th>\n",
       "      <td>U.S.A.</td>\n",
       "      <td>3</td>\n",
       "      <td>1</td>\n",
       "    </tr>\n",
       "    <tr>\n",
       "      <th>22</th>\n",
       "      <td>East Africa</td>\n",
       "      <td>4</td>\n",
       "      <td>1</td>\n",
       "    </tr>\n",
       "  </tbody>\n",
       "</table>\n",
       "</div>"
      ],
      "text/plain": [
       "         Country  Total_Matches  Total_Matches_won\n",
       "0      Australia            450                278\n",
       "1        England            394                183\n",
       "2    New Zealand            415                162\n",
       "3    West Indies            501                251\n",
       "4       Pakistan            690                366\n",
       "5          India            585                296\n",
       "6      Sri Lanka            556                234\n",
       "7       Zimbabwe            285                 71\n",
       "8   South Africa            332                193\n",
       "9          Kenya             94                 19\n",
       "10        U.A.E.             20                  2\n",
       "11    Bangladesh            172                 41\n",
       "12        Canada             58                 13\n",
       "13   Netherlands             52                 17\n",
       "14       Bermuda             36                  7\n",
       "15       Ireland             71                 31\n",
       "16      Scotland             56                 17\n",
       "17   Afghanistan             81                 42\n",
       "18        P.N.G.             10                  5\n",
       "19     Hong Kong             14                  3\n",
       "20       Namibia              8                  1\n",
       "21        U.S.A.              3                  1\n",
       "22   East Africa              4                  1"
      ]
     },
     "execution_count": 47,
     "metadata": {},
     "output_type": "execute_result"
    }
   ],
   "source": [
    "Away_Home = pd.DataFrame(columns = [\"Country\", \"Total_Matches\", \"Total_Matches_won\"])\n",
    "for team in Teams:\n",
    "    li = total_matches_at_away_Home(team)\n",
    "#     print(li)\n",
    "    Away_Home.loc[len(Away_Home)] = li\n",
    "Away_Home"
   ]
  },
  {
   "cell_type": "code",
   "execution_count": 48,
   "metadata": {},
   "outputs": [
    {
     "data": {
      "image/png": "[encoded data removed]",
      "text/plain": [
       "<Figure size 1152x576 with 1 Axes>"
      ]
     },
     "metadata": {},
     "output_type": "display_data"
    }
   ],
   "source": [
    "plt.figure(figsize=(16,8))\n",
    "sns.set_style('darkgrid')\n",
    "plt.bar(Away_Home.Country, Away_Home.Total_Matches, label = \"Total Matches played away Home\")\n",
    "plt.bar(Away_Home.Country, Away_Home.Total_Matches_won, label = \"Total Matches won away Home\")\n",
    "plt.xticks(rotation = \"vertical\")\n",
    "plt.legend()\n",
    "plt.show()"
   ]
  },
  {
   "cell_type": "code",
   "execution_count": 49,
   "metadata": {},
   "outputs": [],
   "source": [
    "def ywin(country):\n",
    "    data = df.loc[df.Winner == country].groupby('Year').apply(lambda p : p.Winner.value_counts())\n",
    "    return data\n",
    "for team in Teams:\n",
    "    ydata = ywin(team)\n",
    "    if team == 'Australia':\n",
    "        yearwisewin = ydata\n",
    "        yearwisewin\n",
    "    elif team != 'Australia':\n",
    "        yearwisewin = yearwisewin.join(ydata)\n",
    "        yearwisewin\n",
    "        \n"
   ]
  },
  {
   "cell_type": "code",
   "execution_count": 50,
   "metadata": {},
   "outputs": [
    {
     "data": {
      "image/png": "[encoded data removed]",
      "text/plain": [
       "<Figure size 1296x576 with 2 Axes>"
      ]
     },
     "metadata": {},
     "output_type": "display_data"
    }
   ],
   "source": [
    "sns.set_style('darkgrid')\n",
    "plt.figure(figsize=(18,8))\n",
    "sns.heatmap(data=yearwisewin.transpose(), annot=True, cmap='Blues', linewidth=.05)\n",
    "plt.xlabel('Year', size=15)\n",
    "plt.ylabel('Country', size=15)\n",
    "plt.title('Victories each Year\\n(Country)', size=20)\n",
    "plt.show()"
   ]
  },
  {
   "cell_type": "markdown",
   "metadata": {},
   "source": [
    "### Venue based decision"
   ]
  },
  {
   "cell_type": "code",
   "execution_count": 51,
   "metadata": {},
   "outputs": [
    {
     "data": {
      "text/html": [
       "<div>\n",
       "<style scoped>\n",
       "    .dataframe tbody tr th:only-of-type {\n",
       "        vertical-align: middle;\n",
       "    }\n",
       "\n",
       "    .dataframe tbody tr th {\n",
       "        vertical-align: top;\n",
       "    }\n",
       "\n",
       "    .dataframe thead th {\n",
       "        text-align: right;\n",
       "    }\n",
       "</style>\n",
       "<table border=\"1\" class=\"dataframe\">\n",
       "  <thead>\n",
       "    <tr style=\"text-align: right;\">\n",
       "      <th></th>\n",
       "      <th>venue</th>\n",
       "      <th>no. of matches</th>\n",
       "      <th>1st_inng_wins</th>\n",
       "      <th>2nd_inng_wins</th>\n",
       "    </tr>\n",
       "  </thead>\n",
       "  <tbody>\n",
       "    <tr>\n",
       "      <th>0</th>\n",
       "      <td>Sharjah</td>\n",
       "      <td>226</td>\n",
       "      <td>0</td>\n",
       "      <td>0</td>\n",
       "    </tr>\n",
       "    <tr>\n",
       "      <th>1</th>\n",
       "      <td>Colombo</td>\n",
       "      <td>179</td>\n",
       "      <td>0</td>\n",
       "      <td>0</td>\n",
       "    </tr>\n",
       "    <tr>\n",
       "      <th>2</th>\n",
       "      <td>Dhaka</td>\n",
       "      <td>154</td>\n",
       "      <td>0</td>\n",
       "      <td>0</td>\n",
       "    </tr>\n",
       "    <tr>\n",
       "      <th>3</th>\n",
       "      <td>Melbourne</td>\n",
       "      <td>150</td>\n",
       "      <td>0</td>\n",
       "      <td>0</td>\n",
       "    </tr>\n",
       "    <tr>\n",
       "      <th>4</th>\n",
       "      <td>Sydney</td>\n",
       "      <td>147</td>\n",
       "      <td>0</td>\n",
       "      <td>0</td>\n",
       "    </tr>\n",
       "    <tr>\n",
       "      <th>...</th>\n",
       "      <td>...</td>\n",
       "      <td>...</td>\n",
       "      <td>...</td>\n",
       "      <td>...</td>\n",
       "    </tr>\n",
       "    <tr>\n",
       "      <th>157</th>\n",
       "      <td>Sahiwal</td>\n",
       "      <td>1</td>\n",
       "      <td>0</td>\n",
       "      <td>0</td>\n",
       "    </tr>\n",
       "    <tr>\n",
       "      <th>158</th>\n",
       "      <td>Launceston</td>\n",
       "      <td>1</td>\n",
       "      <td>0</td>\n",
       "      <td>0</td>\n",
       "    </tr>\n",
       "    <tr>\n",
       "      <th>159</th>\n",
       "      <td>Vijayawada</td>\n",
       "      <td>1</td>\n",
       "      <td>0</td>\n",
       "      <td>0</td>\n",
       "    </tr>\n",
       "    <tr>\n",
       "      <th>160</th>\n",
       "      <td>Kwekwe</td>\n",
       "      <td>1</td>\n",
       "      <td>0</td>\n",
       "      <td>0</td>\n",
       "    </tr>\n",
       "    <tr>\n",
       "      <th>161</th>\n",
       "      <td>Abu Dhabi</td>\n",
       "      <td>1</td>\n",
       "      <td>0</td>\n",
       "      <td>0</td>\n",
       "    </tr>\n",
       "  </tbody>\n",
       "</table>\n",
       "<p>162 rows × 4 columns</p>\n",
       "</div>"
      ],
      "text/plain": [
       "          venue  no. of matches  1st_inng_wins  2nd_inng_wins\n",
       "0       Sharjah             226              0              0\n",
       "1       Colombo             179              0              0\n",
       "2         Dhaka             154              0              0\n",
       "3     Melbourne             150              0              0\n",
       "4        Sydney             147              0              0\n",
       "..          ...             ...            ...            ...\n",
       "157     Sahiwal               1              0              0\n",
       "158  Launceston               1              0              0\n",
       "159  Vijayawada               1              0              0\n",
       "160      Kwekwe               1              0              0\n",
       "161  Abu Dhabi                1              0              0\n",
       "\n",
       "[162 rows x 4 columns]"
      ]
     },
     "execution_count": 51,
     "metadata": {},
     "output_type": "execute_result"
    }
   ],
   "source": [
    "Venues = df.Venue.value_counts().reset_index()\n",
    "Venues.columns = ['venue','no. of matches']\n",
    "Venues['1st_inng_wins'] = 0\n",
    "Venues['2nd_inng_wins'] = 0\n",
    "Venues\n",
    "# There are 162 different venues"
   ]
  },
  {
   "cell_type": "code",
   "execution_count": 45,
   "metadata": {},
   "outputs": [
    {
     "data": {
      "text/plain": [
       "['Sharjah', 104, 122, 226]"
      ]
     },
     "execution_count": 45,
     "metadata": {},
     "output_type": "execute_result"
    }
   ],
   "source": [
    "def get_venue_details(venue):\n",
    "    first_wins  = df[ (df[\"Venue\"] == venue)  & (df['Winners_inng'] == \"2\")]\n",
    "    second_wins = df[ (df[\"Venue\"] == venue)  & (df['Winners_inng'] == \"1\")]\n",
    "    frows , c = first_wins.shape\n",
    "    srows, co = second_wins.shape\n",
    "    return [venue,frows, srows,frows+srows]\n",
    "get_venue_details(\"Sharjah\")"
   ]
  },
  {
   "cell_type": "code",
   "execution_count": 46,
   "metadata": {},
   "outputs": [
    {
     "data": {
      "text/plain": [
       "array(['Melbourne', 'Manchester', \"Lord's\", 'Birmingham', 'Christchurch',\n",
       "       'Swansea', 'Leeds', 'The Oval', 'Dunedin', 'Nottingham',\n",
       "       'Adelaide', 'Auckland', 'Scarborough', 'Sialkot', 'Albion',\n",
       "       'Sahiwal', 'Lahore', \"St John's\", 'Castries', 'Quetta', 'Sydney',\n",
       "       'Brisbane', 'Karachi', 'Perth', 'Kingstown', 'Hamilton',\n",
       "       'Ahmedabad', 'Jalandhar', 'Cuttack', 'Colombo', 'Wellington',\n",
       "       'Amritsar', 'Delhi', 'Hyderabad', 'Bengaluru', 'Gujranwala',\n",
       "       'Multan', 'Port of Spain', 'Napier', \"St George's\", 'Taunton',\n",
       "       'Leicester', 'Bristol', 'Worcester', 'Southampton', 'Derby',\n",
       "       'Tunbridge Wells', 'Chelmsford', 'Jaipur', 'Srinagar', 'Vadodara',\n",
       "       'Indore', 'Jamshedpur', 'Guwahati', 'Moratuwa', 'Sharjah',\n",
       "       'Kingston', 'New Delhi', 'Peshawar', 'Faisalabad', 'Pune',\n",
       "       'Hobart', 'Nagpur', 'Chandigarh', 'Bridgetown', 'Rawalpindi',\n",
       "       'Launceston', 'Kandy', 'Rajkot', 'Kanpur', 'Mumbai', 'Devonport',\n",
       "       'Kolkata', 'Chennai', 'Faridabad', 'Gwalior', 'Thiruvananthapuram',\n",
       "       'Georgetown', 'Dhaka', 'Chittagong', 'Visakhapatnam', 'Margao',\n",
       "       'Lucknow', 'Sargodha', 'New Plymouth', 'Ballarat', 'Canberra',\n",
       "       'Berri', 'Albury', 'Harare', 'Bulawayo', 'Cape Town',\n",
       "       'Port Elizabeth', 'Centurion', 'Johannesburg', 'Bloemfontein',\n",
       "       'Durban', 'East London', 'Patna', 'Mohali', 'Singapore', 'Toronto',\n",
       "       'Nairobi', 'Benoni', 'Kochi', 'Kimberley', 'Paarl', 'Sheikhupura',\n",
       "       'Taupo', 'Hove', 'Canterbury', 'Northampton', 'Cardiff', 'Chester',\n",
       "       'Dublin', 'Edinburgh', 'Amstelveen', 'Galle', 'Jodhpur',\n",
       "       'Dambulla', 'Gros Islet', 'Tangier', 'Potchefstroom', 'Vijayawada',\n",
       "       'Kwekwe', 'Queenstown', 'Pietermaritzburg', 'Cairns', 'Darwin',\n",
       "       'Bogra', 'Khulna', 'Fatullah', 'Abu Dhabi', 'Basseterre',\n",
       "       'Belfast', 'Ayr', 'Kuala Lumpur', 'Mombasa', 'North Sound',\n",
       "       'Providence', 'Glasgow', 'Rotterdam', 'King City', 'Aberdeen',\n",
       "       'Dubai', 'Roseau', 'The Hague', 'Schiedam', 'Hambantota',\n",
       "       'Pallekele', 'Whangarei', 'Ranchi', 'Dharamsala', 'ICCA Dubai',\n",
       "       'Nelson', 'Lincoln', 'Mount Maunganui', 'Townsville', 'Mong Kok',\n",
       "       'Greater Noida', 'Port Moresby', 'Abu Dhabi '], dtype=object)"
      ]
     },
     "execution_count": 46,
     "metadata": {},
     "output_type": "execute_result"
    }
   ],
   "source": [
    "Venues = df['Venue'].unique()\n",
    "Venues"
   ]
  },
  {
   "cell_type": "code",
   "execution_count": 47,
   "metadata": {},
   "outputs": [],
   "source": [
    "Venue_details = pd.DataFrame(columns = [\"venue\",\"1st_inng_wins\",\"2nd_inng_wins\",\"Total_matches\"])\n",
    "for venue in Venues:\n",
    "    li = get_venue_details(venue)\n",
    "    Venue_details.loc[len(Venue_details)] = li\n",
    "    "
   ]
  },
  {
   "cell_type": "code",
   "execution_count": 48,
   "metadata": {},
   "outputs": [
    {
     "data": {
      "text/html": [
       "<div>\n",
       "<style scoped>\n",
       "    .dataframe tbody tr th:only-of-type {\n",
       "        vertical-align: middle;\n",
       "    }\n",
       "\n",
       "    .dataframe tbody tr th {\n",
       "        vertical-align: top;\n",
       "    }\n",
       "\n",
       "    .dataframe thead th {\n",
       "        text-align: right;\n",
       "    }\n",
       "</style>\n",
       "<table border=\"1\" class=\"dataframe\">\n",
       "  <thead>\n",
       "    <tr style=\"text-align: right;\">\n",
       "      <th></th>\n",
       "      <th>venue</th>\n",
       "      <th>1st_inng_wins</th>\n",
       "      <th>2nd_inng_wins</th>\n",
       "      <th>Total_matches</th>\n",
       "    </tr>\n",
       "  </thead>\n",
       "  <tbody>\n",
       "    <tr>\n",
       "      <th>0</th>\n",
       "      <td>Melbourne</td>\n",
       "      <td>74</td>\n",
       "      <td>76</td>\n",
       "      <td>150</td>\n",
       "    </tr>\n",
       "    <tr>\n",
       "      <th>1</th>\n",
       "      <td>Manchester</td>\n",
       "      <td>26</td>\n",
       "      <td>18</td>\n",
       "      <td>44</td>\n",
       "    </tr>\n",
       "    <tr>\n",
       "      <th>2</th>\n",
       "      <td>Lord's</td>\n",
       "      <td>32</td>\n",
       "      <td>25</td>\n",
       "      <td>57</td>\n",
       "    </tr>\n",
       "    <tr>\n",
       "      <th>3</th>\n",
       "      <td>Birmingham</td>\n",
       "      <td>25</td>\n",
       "      <td>26</td>\n",
       "      <td>51</td>\n",
       "    </tr>\n",
       "    <tr>\n",
       "      <th>4</th>\n",
       "      <td>Christchurch</td>\n",
       "      <td>28</td>\n",
       "      <td>30</td>\n",
       "      <td>58</td>\n",
       "    </tr>\n",
       "  </tbody>\n",
       "</table>\n",
       "</div>"
      ],
      "text/plain": [
       "          venue  1st_inng_wins  2nd_inng_wins  Total_matches\n",
       "0     Melbourne             74             76            150\n",
       "1    Manchester             26             18             44\n",
       "2        Lord's             32             25             57\n",
       "3    Birmingham             25             26             51\n",
       "4  Christchurch             28             30             58"
      ]
     },
     "execution_count": 48,
     "metadata": {},
     "output_type": "execute_result"
    }
   ],
   "source": [
    "Venue_details.head()"
   ]
  },
  {
   "cell_type": "code",
   "execution_count": 55,
   "metadata": {},
   "outputs": [
    {
     "name": "stdout",
     "output_type": "stream",
     "text": [
      "Total no. of matches played in Birmingham is 51\n"
     ]
    },
    {
     "data": {
      "image/png": "[encoded data removed]",
      "text/plain": [
       "<Figure size 432x576 with 1 Axes>"
      ]
     },
     "metadata": {},
     "output_type": "display_data"
    },
    {
     "name": "stdout",
     "output_type": "stream",
     "text": [
      "Choose To Bowl First\n"
     ]
    }
   ],
   "source": [
    "def plot_bar(venue):\n",
    "    v = Venue_details[Venue_details[\"venue\"] == venue]\n",
    "    name = v['venue'].values[0]\n",
    "    f = v['1st_inng_wins'].values[0]\n",
    "    s = v['2nd_inng_wins'].values[0]\n",
    "    print(f\"Total no. of matches played in {venue} is {f+s}\")\n",
    "    \n",
    "    plt.figure(figsize=(6,8))\n",
    "    sns.set_style('darkgrid')\n",
    "    p = [f,s]\n",
    "    plt.pie([f,s],  labels = [\"First_inning_wins\", \"Second_inning_wins\"], startangle=45, labeldistance=1.05, rotatelabels =True, autopct=lambda p: '{:.0f}'.format(p))\n",
    "\n",
    "#     plt.bar(['1st_inng_wins'], f, width = 0.4)\n",
    "#     plt.bar(['2nd_inng_wins'], s, width = 0.4)\n",
    "    \n",
    "    plt.title(venue)\n",
    "    plt.show()\n",
    "    \n",
    "    if f > s:\n",
    "        print(\"Choose To Bat First\")\n",
    "    elif f == s:\n",
    "        print(\"1st inng wins = 2nd inng wins\")\n",
    "    else:\n",
    "        print(\"Choose To Bowl First\")\n",
    "    \n",
    "plot_bar(\"Birmingham\")"
   ]
  },
  {
   "cell_type": "code",
   "execution_count": 205,
   "metadata": {},
   "outputs": [
    {
     "name": "stdout",
     "output_type": "stream",
     "text": [
      "Abu Dhabi  0 1\n"
     ]
    }
   ],
   "source": [
    "v = Venue_details[Venue_details[\"venue\"] == venue]\n",
    "\n",
    "name = v['venue'].values[0]\n",
    "f = v['1st_inng_wins'].values[0]\n",
    "s = v['2nd_inng_wins'].values[0]\n",
    "\n",
    "print(name, f, s)"
   ]
  },
  {
   "cell_type": "code",
   "execution_count": 206,
   "metadata": {},
   "outputs": [],
   "source": [
    "t1 =\"India\"\n",
    "t2 =\"Pakistan\"\n",
    "\n",
    "vs = df[ ( (df[\"Team 1\"] == t1) | (df[\"Team 2\"] == t1) )    &  ( (df[\"Team 1\"] == t2)  | (df[\"Team 2\"] == t2) ) ]\n",
    "tota ,sd = vs.shape\n",
    "# TEAM 1\n",
    "t1_wins = vs[ vs[\"Winner\"] == t1]      # t1 wins df\n",
    "t1w, x = t1_wins.shape                 # No. of wins by t1\n",
    "t1_home = t1_wins[ t1_wins[\"Host_Country\"] == t1 ]\n",
    "t1_away = t1_wins[ t1_wins[\"Host_Country\"] != t1 ]\n",
    "\n",
    "t1_home_wins, c = t1_home.shape\n",
    "t1_away_wins, cl = t1_away.shape\n",
    "\n",
    "\n",
    "# TEAM 2\n",
    "t2_wins = vs[ vs[\"Winner\"] == t2]   # t2 wins df\n",
    "t2w,y = t2_wins.shape                 # No. of wins by t2\n",
    "t2_home = t2_wins[ t2_wins[\"Host_Country\"] == t2 ]\n",
    "t2_away = t2_wins[ t2_wins[\"Host_Country\"] != t2 ]\n",
    "t2_home_wins, cs = t2_home.shape\n",
    "t2_away_wins, cc = t2_away.shape\n",
    "\n",
    "draws = vs[  (vs[\"Winner\"] != t1)  & (vs[\"Winner\"] != t2 ) ]\n",
    "ds = draws.shape"
   ]
  },
  {
   "cell_type": "code",
   "execution_count": 59,
   "metadata": {
    "scrolled": true
   },
   "outputs": [
    {
     "name": "stdout",
     "output_type": "stream",
     "text": [
      "Total matches played between India and Pakistan is 123\n",
      "Total t1 wins 51\n",
      "Total t2 wins 72\n",
      "T1 Home wins 9 \n",
      "T1 away wins 42\n",
      "T2 Home wins 12 \n",
      "T2 away wins 60\n"
     ]
    }
   ],
   "source": [
    "print(f\"Total matches played between {t1} and {t2} is {tota}\")\n",
    "\n",
    "print(\"Total t1 wins\",t1w)\n",
    "print(\"Total t2 wins\",t2w)\n",
    "\n",
    "print(\"T1 Home wins\",t1_home_wins,\"\\nT1 away wins\",t1_away_wins)\n",
    "print(\"T2 Home wins\",t2_home_wins,\"\\nT2 away wins\",t2_away_wins)\n"
   ]
  },
  {
   "cell_type": "code",
   "execution_count": 71,
   "metadata": {},
   "outputs": [
    {
     "name": "stdout",
     "output_type": "stream",
     "text": [
      "Total no. of matches played between India and Pakistan is 123\n"
     ]
    },
    {
     "data": {
      "image/png": "[encoded data removed]",
      "text/plain": [
       "<Figure size 1152x432 with 1 Axes>"
      ]
     },
     "metadata": {},
     "output_type": "display_data"
    },
    {
     "data": {
      "image/png": "[encoded data removed]",
      "text/plain": [
       "<Figure size 432x288 with 1 Axes>"
      ]
     },
     "metadata": {},
     "output_type": "display_data"
    },
    {
     "data": {
      "image/png": "[encoded data removed]",
      "text/plain": [
       "<Figure size 432x288 with 1 Axes>"
      ]
     },
     "metadata": {},
     "output_type": "display_data"
    }
   ],
   "source": [
    "def plot_head_to_head(t1,t2,df):\n",
    "    vs = df[ ( (df[\"Team 1\"] == t1) | (df[\"Team 2\"] == t1) )    &  ( (df[\"Team 1\"] == t2)  | (df[\"Team 2\"] == t2) ) ]\n",
    "    tota ,sd = vs.shape\n",
    "    # TEAM 1\n",
    "    t1_wins = vs[ vs[\"Winner\"] == t1]                           # t1 wins df\n",
    "    t1w, x = t1_wins.shape                                      # No. of wins by t1\n",
    "    t1_home = t1_wins[ t1_wins[\"Host_Country\"] == t1 ]    \n",
    "    t1_away = t1_wins[ t1_wins[\"Host_Country\"] != t1 ]\n",
    "\n",
    "    t1_home_wins, c = t1_home.shape                             # t1 total no. of wins vs t2 at home\n",
    "    t1_away_wins, cl = t1_away.shape                            # t1 total no. of wins vs t2 at away home\n",
    "\n",
    "\n",
    "    # TEAM 2\n",
    "    t2_wins = vs[ vs[\"Winner\"] == t2]   # t2 wins df\n",
    "    t2w,y = t2_wins.shape                 # No. of wins by t2\n",
    "    t2_home = t2_wins[ t2_wins[\"Host_Country\"] == t2 ]\n",
    "    t2_away = t2_wins[ t2_wins[\"Host_Country\"] != t2 ]\n",
    "    t2_home_wins, cs = t2_home.shape                            # t2 total no. of wins vs t1 at home\n",
    "    t2_away_wins, cc = t2_away.shape                            # t2 total no. of wins vs t1 at away home\n",
    "\n",
    "    draws = vs[  (vs[\"Winner\"] != t1)  & (vs[\"Winner\"] != t2 ) ]\n",
    "    ds = draws.shape                                            # Total no. of draws if any\n",
    "    \n",
    "    \n",
    "#     PLOTS\n",
    "    \n",
    "    print(f\"Total no. of matches played between {t1} and {t2} is {tota}\")\n",
    "\n",
    "    plt.figure(figsize=(16,6))\n",
    "#     plt.bar(t1,t1w)\n",
    "#     plt.bar(t2,t2w)\n",
    "    p = [t1w,t2w]\n",
    "    plt.pie([t1w,t2w],   startangle=90, labeldistance=1.05, rotatelabels =True, autopct=lambda p: '{:.0f}'.format(p))\n",
    "    plt.legend(title=\"Wins\", labels = [\"Team-1_wins\", \"Team-2_wins\"])\n",
    "    \n",
    "    plt.title(f\"{t1} VS {t2}  head-to-head wins\")\n",
    "    plt.show()\n",
    "    \n",
    "    plt.figure(figsize=(6,4))\n",
    "    plt.bar(t1, t1_home_wins, width=0.2)\n",
    "    plt.bar(t2, t2_home_wins, width=0.2)\n",
    "    plt.title(f\"{t1} and {t2} wins at home\")\n",
    "    plt.show()\n",
    "    \n",
    "    plt.figure(figsize=(6,4))\n",
    "    plt.bar(t1, t1_away_wins, width=0.2)\n",
    "    plt.bar(t2, t2_away_wins, width=0.2)\n",
    "    plt.title(f\"{t1} and {t2} wins away home\")\n",
    "    plt.show()\n",
    "    \n",
    "plot_head_to_head(\"India\",\"Pakistan\",df)"
   ]
  },
  {
   "cell_type": "code",
   "execution_count": 58,
   "metadata": {},
   "outputs": [
    {
     "name": "stdout",
     "output_type": "stream",
     "text": [
      "Total no. of matches played in Birmingham is 51\n",
      "(<Figure size 432x288 with 1 Axes>, 25, 26)\n"
     ]
    },
    {
     "data": {
      "image/png": "[encoded data removed]",
      "text/plain": [
       "<Figure size 432x288 with 1 Axes>"
      ]
     },
     "metadata": {},
     "output_type": "display_data"
    }
   ],
   "source": [
    "def plot_ground_bar(Venue_details, venue):\n",
    "    v = Venue_details[Venue_details[\"venue\"] == venue]\n",
    "    name = v['venue'].values[0]\n",
    "    f = v['1st_inng_wins'].values[0]\n",
    "    s = v['2nd_inng_wins'].values[0]\n",
    "    print(f\"Total no. of matches played in {venue} is {f + s}\")\n",
    "\n",
    "    figg = plt.figure()\n",
    "    # sns.set_style('darkgrid')\n",
    "    p = [f,s]\n",
    "    plt.pie([f,s],  labels = [\"First_inning_wins\", \"Second_inning_wins\"], startangle=90, labeldistance=1.05, rotatelabels =True, autopct=lambda p: '{:.0f}'.format(p))\n",
    "\n",
    "#     plt.bar(['1st_inng_wins'], f, width=0.4)\n",
    "#     plt.bar(['2nd_inng_wins'], s, width=0.4)\n",
    "    plt.title(venue)\n",
    "\n",
    "\n",
    "    return (figg, f, s)\n",
    "\n",
    "print(plot_ground_bar(Venue_details,\"Birmingham\"))"
   ]
  },
  {
   "cell_type": "code",
   "execution_count": 77,
   "metadata": {},
   "outputs": [
    {
     "data": {
      "text/html": [
       "<div>\n",
       "<style scoped>\n",
       "    .dataframe tbody tr th:only-of-type {\n",
       "        vertical-align: middle;\n",
       "    }\n",
       "\n",
       "    .dataframe tbody tr th {\n",
       "        vertical-align: top;\n",
       "    }\n",
       "\n",
       "    .dataframe thead th {\n",
       "        text-align: right;\n",
       "    }\n",
       "</style>\n",
       "<table border=\"1\" class=\"dataframe\">\n",
       "  <thead>\n",
       "    <tr style=\"text-align: right;\">\n",
       "      <th></th>\n",
       "      <th>Match_id</th>\n",
       "      <th>Team 1</th>\n",
       "      <th>Team 2</th>\n",
       "      <th>Winners_inng</th>\n",
       "      <th>Venue</th>\n",
       "      <th>Match Date</th>\n",
       "      <th>Winner</th>\n",
       "      <th>Host_Country</th>\n",
       "      <th>Venue_Team1</th>\n",
       "      <th>Venue_Team2</th>\n",
       "      <th>Innings_Team1</th>\n",
       "      <th>Innings_Team2</th>\n",
       "      <th>Year</th>\n",
       "    </tr>\n",
       "  </thead>\n",
       "  <tbody>\n",
       "    <tr>\n",
       "      <th>0</th>\n",
       "      <td>1</td>\n",
       "      <td>Australia</td>\n",
       "      <td>England</td>\n",
       "      <td>2</td>\n",
       "      <td>Melbourne</td>\n",
       "      <td>Jan 5, 1971</td>\n",
       "      <td>Australia</td>\n",
       "      <td>Australia</td>\n",
       "      <td>Home</td>\n",
       "      <td>Away</td>\n",
       "      <td>Second</td>\n",
       "      <td>First</td>\n",
       "      <td>1971</td>\n",
       "    </tr>\n",
       "    <tr>\n",
       "      <th>1</th>\n",
       "      <td>2</td>\n",
       "      <td>England</td>\n",
       "      <td>Australia</td>\n",
       "      <td>2</td>\n",
       "      <td>Manchester</td>\n",
       "      <td>Aug 24, 1972</td>\n",
       "      <td>England</td>\n",
       "      <td>England</td>\n",
       "      <td>Home</td>\n",
       "      <td>Away</td>\n",
       "      <td>Second</td>\n",
       "      <td>First</td>\n",
       "      <td>1972</td>\n",
       "    </tr>\n",
       "    <tr>\n",
       "      <th>2</th>\n",
       "      <td>3</td>\n",
       "      <td>England</td>\n",
       "      <td>Australia</td>\n",
       "      <td>2</td>\n",
       "      <td>Lord's</td>\n",
       "      <td>Aug 26, 1972</td>\n",
       "      <td>Australia</td>\n",
       "      <td>England</td>\n",
       "      <td>Home</td>\n",
       "      <td>Away</td>\n",
       "      <td>First</td>\n",
       "      <td>Second</td>\n",
       "      <td>1972</td>\n",
       "    </tr>\n",
       "    <tr>\n",
       "      <th>3</th>\n",
       "      <td>4</td>\n",
       "      <td>England</td>\n",
       "      <td>Australia</td>\n",
       "      <td>2</td>\n",
       "      <td>Birmingham</td>\n",
       "      <td>Aug 28, 1972</td>\n",
       "      <td>England</td>\n",
       "      <td>England</td>\n",
       "      <td>Home</td>\n",
       "      <td>Away</td>\n",
       "      <td>Second</td>\n",
       "      <td>First</td>\n",
       "      <td>1972</td>\n",
       "    </tr>\n",
       "    <tr>\n",
       "      <th>4</th>\n",
       "      <td>5</td>\n",
       "      <td>New Zealand</td>\n",
       "      <td>Pakistan</td>\n",
       "      <td>1</td>\n",
       "      <td>Christchurch</td>\n",
       "      <td>Feb 11, 1973</td>\n",
       "      <td>New Zealand</td>\n",
       "      <td>New Zealand</td>\n",
       "      <td>Home</td>\n",
       "      <td>Away</td>\n",
       "      <td>First</td>\n",
       "      <td>Second</td>\n",
       "      <td>1973</td>\n",
       "    </tr>\n",
       "  </tbody>\n",
       "</table>\n",
       "</div>"
      ],
      "text/plain": [
       "   Match_id       Team 1     Team 2 Winners_inng         Venue    Match Date  \\\n",
       "0         1    Australia    England            2     Melbourne   Jan 5, 1971   \n",
       "1         2      England  Australia            2    Manchester  Aug 24, 1972   \n",
       "2         3      England  Australia            2        Lord's  Aug 26, 1972   \n",
       "3         4      England  Australia            2    Birmingham  Aug 28, 1972   \n",
       "4         5  New Zealand   Pakistan            1  Christchurch  Feb 11, 1973   \n",
       "\n",
       "        Winner Host_Country Venue_Team1 Venue_Team2 Innings_Team1  \\\n",
       "0    Australia    Australia        Home        Away        Second   \n",
       "1      England      England        Home        Away        Second   \n",
       "2    Australia      England        Home        Away         First   \n",
       "3      England      England        Home        Away        Second   \n",
       "4  New Zealand  New Zealand        Home        Away         First   \n",
       "\n",
       "  Innings_Team2  Year  \n",
       "0         First  1971  \n",
       "1         First  1972  \n",
       "2        Second  1972  \n",
       "3         First  1972  \n",
       "4        Second  1973  "
      ]
     },
     "execution_count": 77,
     "metadata": {},
     "output_type": "execute_result"
    }
   ],
   "source": [
    "analysis_df.head()"
   ]
  },
  {
   "cell_type": "code",
   "execution_count": 105,
   "metadata": {},
   "outputs": [
    {
     "name": "stdout",
     "output_type": "stream",
     "text": [
      "Figure(1008x576)\n"
     ]
    },
    {
     "data": {
      "image/png": "[encoded data removed]",
      "text/plain": [
       "<Figure size 1008x576 with 1 Axes>"
      ]
     },
     "metadata": {},
     "output_type": "display_data"
    }
   ],
   "source": [
    "def most_team_wins(venue):\n",
    "    venue_teams = analysis_df[ analysis_df[\"Venue\"] == venue ]\n",
    "    fig = plt.figure(figsize=(14,8))\n",
    "    plt.plot(venue_teams.Winner.value_counts()[:3])\n",
    "    return fig\n",
    "\n",
    "print(most_team_wins(\"Lord's\"))\n"
   ]
  },
  {
   "cell_type": "code",
   "execution_count": 83,
   "metadata": {},
   "outputs": [
    {
     "data": {
      "text/plain": [
       "(array([24.,  2.,  1.,  0.,  3.,  3.,  0.,  7.,  2.,  2.]),\n",
       " array([0. , 0.7, 1.4, 2.1, 2.8, 3.5, 4.2, 4.9, 5.6, 6.3, 7. ]),\n",
       " <BarContainer object of 10 artists>)"
      ]
     },
     "execution_count": 83,
     "metadata": {},
     "output_type": "execute_result"
    },
    {
     "data": {
      "image/png": "[encoded data removed]",
      "text/plain": [
       "<Figure size 1440x576 with 1 Axes>"
      ]
     },
     "metadata": {},
     "output_type": "display_data"
    }
   ],
   "source": [
    "plt.figure(figsize=(20,8))\n",
    "plt.hist(venue_teams.Winner)"
   ]
  },
  {
   "cell_type": "code",
   "execution_count": 99,
   "metadata": {},
   "outputs": [
    {
     "data": {
      "text/plain": [
       "[<matplotlib.lines.Line2D at 0x18aaf31d880>]"
      ]
     },
     "execution_count": 99,
     "metadata": {},
     "output_type": "execute_result"
    },
    {
     "data": {
      "image/png": "[encoded data removed]",
      "text/plain": [
       "<Figure size 432x288 with 1 Axes>"
      ]
     },
     "metadata": {},
     "output_type": "display_data"
    }
   ],
   "source": [
    "fig =  \n",
    "plt.plot(venue_teams.Winner.value_counts()[:3])"
   ]
  },
  {
   "cell_type": "code",
   "execution_count": null,
   "metadata": {},
   "outputs": [],
   "source": []
  }
 ],
 "metadata": {
  "kernelspec": {
   "display_name": "Python 3 (ipykernel)",
   "language": "python",
   "name": "python3"
  },
  "language_info": {
   "codemirror_mode": {
    "name": "ipython",
    "version": 3
   },
   "file_extension": ".py",
   "mimetype": "text/x-python",
   "name": "python",
   "nbconvert_exporter": "python",
   "pygments_lexer": "ipython3",
   "version": "3.8.5"
  }
 },
 "nbformat": 4,
 "nbformat_minor": 4
}
